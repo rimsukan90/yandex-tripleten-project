{
 "cells": [
  {
   "cell_type": "markdown",
   "metadata": {},
   "source": []
  },
  {
   "cell_type": "markdown",
   "metadata": {},
   "source": [
    "# Table of Contents <a id='back'></a>\n",
    "\n",
    "* [Introduction](#intro)\n",
    "* [Open the data file and have a look at the general information.](#1.-info)\n",
    "* [Data exploration](#1.-explore)\n",
    "* [Data transformation](#transform)\n",
    "* [Working with missing values](#missing)\n",
    "* [Restoring missing values in `total_income`](#missing-income)\n",
    "* [Restoring values in `days_employed`](#missing-days)\n",
    "* [Categorization of data](#categorize)\n",
    "* [Checking the Hypotheses](#hypo)\n",
    "* [General Conclusion ](#end)"
   ]
  },
  {
   "cell_type": "markdown",
   "metadata": {},
   "source": [
    "# Analyzing borrowers’ risk of defaulting <a id='intro'></a>\n",
    "\n",
    "Your project is to prepare a report for a bank’s loan division. You’ll need to find out if a customer’s marital status and number of children has an impact on whether they will default on a loan. The bank already has some data on customers’ credit worthiness.\n",
    "\n",
    "Your report will be considered when building the **credit score** of a potential customer. The **credit score** is used to evaluate the ability of a potential borrower to repay their loan."
   ]
  },
  {
   "cell_type": "markdown",
   "metadata": {},
   "source": [
    "## Open the data file and have a look at the general information. <a id='info'></a>"
   ]
  },
  {
   "cell_type": "code",
   "execution_count": 122,
   "metadata": {},
   "outputs": [],
   "source": [
    "# Loading all the libraries\n",
    "import pandas as pd"
   ]
  },
  {
   "cell_type": "code",
   "execution_count": 123,
   "metadata": {},
   "outputs": [
    {
     "data": {
      "text/html": [
       "<div>\n",
       "<style scoped>\n",
       "    .dataframe tbody tr th:only-of-type {\n",
       "        vertical-align: middle;\n",
       "    }\n",
       "\n",
       "    .dataframe tbody tr th {\n",
       "        vertical-align: top;\n",
       "    }\n",
       "\n",
       "    .dataframe thead th {\n",
       "        text-align: right;\n",
       "    }\n",
       "</style>\n",
       "<table border=\"1\" class=\"dataframe\">\n",
       "  <thead>\n",
       "    <tr style=\"text-align: right;\">\n",
       "      <th></th>\n",
       "      <th>children</th>\n",
       "      <th>days_employed</th>\n",
       "      <th>dob_years</th>\n",
       "      <th>education</th>\n",
       "      <th>education_id</th>\n",
       "      <th>family_status</th>\n",
       "      <th>family_status_id</th>\n",
       "      <th>gender</th>\n",
       "      <th>income_type</th>\n",
       "      <th>debt</th>\n",
       "      <th>total_income</th>\n",
       "      <th>purpose</th>\n",
       "    </tr>\n",
       "  </thead>\n",
       "  <tbody>\n",
       "    <tr>\n",
       "      <th>0</th>\n",
       "      <td>1</td>\n",
       "      <td>-8437.673028</td>\n",
       "      <td>42</td>\n",
       "      <td>bachelor's degree</td>\n",
       "      <td>0</td>\n",
       "      <td>married</td>\n",
       "      <td>0</td>\n",
       "      <td>F</td>\n",
       "      <td>employee</td>\n",
       "      <td>0</td>\n",
       "      <td>40620.102</td>\n",
       "      <td>purchase of the house</td>\n",
       "    </tr>\n",
       "    <tr>\n",
       "      <th>1</th>\n",
       "      <td>1</td>\n",
       "      <td>-4024.803754</td>\n",
       "      <td>36</td>\n",
       "      <td>secondary education</td>\n",
       "      <td>1</td>\n",
       "      <td>married</td>\n",
       "      <td>0</td>\n",
       "      <td>F</td>\n",
       "      <td>employee</td>\n",
       "      <td>0</td>\n",
       "      <td>17932.802</td>\n",
       "      <td>car purchase</td>\n",
       "    </tr>\n",
       "    <tr>\n",
       "      <th>2</th>\n",
       "      <td>0</td>\n",
       "      <td>-5623.422610</td>\n",
       "      <td>33</td>\n",
       "      <td>Secondary Education</td>\n",
       "      <td>1</td>\n",
       "      <td>married</td>\n",
       "      <td>0</td>\n",
       "      <td>M</td>\n",
       "      <td>employee</td>\n",
       "      <td>0</td>\n",
       "      <td>23341.752</td>\n",
       "      <td>purchase of the house</td>\n",
       "    </tr>\n",
       "    <tr>\n",
       "      <th>3</th>\n",
       "      <td>3</td>\n",
       "      <td>-4124.747207</td>\n",
       "      <td>32</td>\n",
       "      <td>secondary education</td>\n",
       "      <td>1</td>\n",
       "      <td>married</td>\n",
       "      <td>0</td>\n",
       "      <td>M</td>\n",
       "      <td>employee</td>\n",
       "      <td>0</td>\n",
       "      <td>42820.568</td>\n",
       "      <td>supplementary education</td>\n",
       "    </tr>\n",
       "    <tr>\n",
       "      <th>4</th>\n",
       "      <td>0</td>\n",
       "      <td>340266.072047</td>\n",
       "      <td>53</td>\n",
       "      <td>secondary education</td>\n",
       "      <td>1</td>\n",
       "      <td>civil partnership</td>\n",
       "      <td>1</td>\n",
       "      <td>F</td>\n",
       "      <td>retiree</td>\n",
       "      <td>0</td>\n",
       "      <td>25378.572</td>\n",
       "      <td>to have a wedding</td>\n",
       "    </tr>\n",
       "    <tr>\n",
       "      <th>...</th>\n",
       "      <td>...</td>\n",
       "      <td>...</td>\n",
       "      <td>...</td>\n",
       "      <td>...</td>\n",
       "      <td>...</td>\n",
       "      <td>...</td>\n",
       "      <td>...</td>\n",
       "      <td>...</td>\n",
       "      <td>...</td>\n",
       "      <td>...</td>\n",
       "      <td>...</td>\n",
       "      <td>...</td>\n",
       "    </tr>\n",
       "    <tr>\n",
       "      <th>21520</th>\n",
       "      <td>1</td>\n",
       "      <td>-4529.316663</td>\n",
       "      <td>43</td>\n",
       "      <td>secondary education</td>\n",
       "      <td>1</td>\n",
       "      <td>civil partnership</td>\n",
       "      <td>1</td>\n",
       "      <td>F</td>\n",
       "      <td>business</td>\n",
       "      <td>0</td>\n",
       "      <td>35966.698</td>\n",
       "      <td>housing transactions</td>\n",
       "    </tr>\n",
       "    <tr>\n",
       "      <th>21521</th>\n",
       "      <td>0</td>\n",
       "      <td>343937.404131</td>\n",
       "      <td>67</td>\n",
       "      <td>secondary education</td>\n",
       "      <td>1</td>\n",
       "      <td>married</td>\n",
       "      <td>0</td>\n",
       "      <td>F</td>\n",
       "      <td>retiree</td>\n",
       "      <td>0</td>\n",
       "      <td>24959.969</td>\n",
       "      <td>purchase of a car</td>\n",
       "    </tr>\n",
       "    <tr>\n",
       "      <th>21522</th>\n",
       "      <td>1</td>\n",
       "      <td>-2113.346888</td>\n",
       "      <td>38</td>\n",
       "      <td>secondary education</td>\n",
       "      <td>1</td>\n",
       "      <td>civil partnership</td>\n",
       "      <td>1</td>\n",
       "      <td>M</td>\n",
       "      <td>employee</td>\n",
       "      <td>1</td>\n",
       "      <td>14347.610</td>\n",
       "      <td>property</td>\n",
       "    </tr>\n",
       "    <tr>\n",
       "      <th>21523</th>\n",
       "      <td>3</td>\n",
       "      <td>-3112.481705</td>\n",
       "      <td>38</td>\n",
       "      <td>secondary education</td>\n",
       "      <td>1</td>\n",
       "      <td>married</td>\n",
       "      <td>0</td>\n",
       "      <td>M</td>\n",
       "      <td>employee</td>\n",
       "      <td>1</td>\n",
       "      <td>39054.888</td>\n",
       "      <td>buying my own car</td>\n",
       "    </tr>\n",
       "    <tr>\n",
       "      <th>21524</th>\n",
       "      <td>2</td>\n",
       "      <td>-1984.507589</td>\n",
       "      <td>40</td>\n",
       "      <td>secondary education</td>\n",
       "      <td>1</td>\n",
       "      <td>married</td>\n",
       "      <td>0</td>\n",
       "      <td>F</td>\n",
       "      <td>employee</td>\n",
       "      <td>0</td>\n",
       "      <td>13127.587</td>\n",
       "      <td>to buy a car</td>\n",
       "    </tr>\n",
       "  </tbody>\n",
       "</table>\n",
       "<p>21525 rows × 12 columns</p>\n",
       "</div>"
      ],
      "text/plain": [
       "       children  days_employed  dob_years            education  education_id  \\\n",
       "0             1   -8437.673028         42    bachelor's degree             0   \n",
       "1             1   -4024.803754         36  secondary education             1   \n",
       "2             0   -5623.422610         33  Secondary Education             1   \n",
       "3             3   -4124.747207         32  secondary education             1   \n",
       "4             0  340266.072047         53  secondary education             1   \n",
       "...         ...            ...        ...                  ...           ...   \n",
       "21520         1   -4529.316663         43  secondary education             1   \n",
       "21521         0  343937.404131         67  secondary education             1   \n",
       "21522         1   -2113.346888         38  secondary education             1   \n",
       "21523         3   -3112.481705         38  secondary education             1   \n",
       "21524         2   -1984.507589         40  secondary education             1   \n",
       "\n",
       "           family_status  family_status_id gender income_type  debt  \\\n",
       "0                married                 0      F    employee     0   \n",
       "1                married                 0      F    employee     0   \n",
       "2                married                 0      M    employee     0   \n",
       "3                married                 0      M    employee     0   \n",
       "4      civil partnership                 1      F     retiree     0   \n",
       "...                  ...               ...    ...         ...   ...   \n",
       "21520  civil partnership                 1      F    business     0   \n",
       "21521            married                 0      F     retiree     0   \n",
       "21522  civil partnership                 1      M    employee     1   \n",
       "21523            married                 0      M    employee     1   \n",
       "21524            married                 0      F    employee     0   \n",
       "\n",
       "       total_income                  purpose  \n",
       "0         40620.102    purchase of the house  \n",
       "1         17932.802             car purchase  \n",
       "2         23341.752    purchase of the house  \n",
       "3         42820.568  supplementary education  \n",
       "4         25378.572        to have a wedding  \n",
       "...             ...                      ...  \n",
       "21520     35966.698     housing transactions  \n",
       "21521     24959.969        purchase of a car  \n",
       "21522     14347.610                 property  \n",
       "21523     39054.888        buying my own car  \n",
       "21524     13127.587             to buy a car  \n",
       "\n",
       "[21525 rows x 12 columns]"
      ]
     },
     "execution_count": 123,
     "metadata": {},
     "output_type": "execute_result"
    }
   ],
   "source": [
    "# Load the data\n",
    "credit_score = pd.read_csv('/datasets/credit_scoring_eng.csv')\n",
    "\n",
    "credit_score"
   ]
  },
  {
   "cell_type": "markdown",
   "metadata": {},
   "source": [
    "## Task 1. Data exploration <a id='explore'></a>\n",
    "\n",
    "**Description of the data**\n",
    "- `children` - the number of children in the family\n",
    "- `days_employed` - work experience in days\n",
    "- `dob_years` - client's age in years\n",
    "- `education` - client's education\n",
    "- `education_id` - education identifier\n",
    "- `family_status` - marital status\n",
    "- `family_status_id` - marital status identifier\n",
    "- `gender` - gender of the client\n",
    "- `income_type` - type of employment\n",
    "- `debt` - was there any debt on loan repayment\n",
    "- `total_income` - monthly income\n",
    "- `purpose` - the purpose of obtaining a loan"
   ]
  },
  {
   "cell_type": "code",
   "execution_count": 124,
   "metadata": {},
   "outputs": [
    {
     "name": "stdout",
     "output_type": "stream",
     "text": [
      "Number of rows: 21525\n",
      "Number of columns: 12\n"
     ]
    }
   ],
   "source": [
    "# Let's see how many rows and columns our dataset has\n",
    "\n",
    "num_rows, num_columns = credit_score.shape\n",
    "\n",
    "print(\"Number of rows:\", num_rows)\n",
    "print(\"Number of columns:\", num_columns)"
   ]
  },
  {
   "cell_type": "code",
   "execution_count": 125,
   "metadata": {
    "scrolled": true
   },
   "outputs": [
    {
     "data": {
      "text/html": [
       "<div>\n",
       "<style scoped>\n",
       "    .dataframe tbody tr th:only-of-type {\n",
       "        vertical-align: middle;\n",
       "    }\n",
       "\n",
       "    .dataframe tbody tr th {\n",
       "        vertical-align: top;\n",
       "    }\n",
       "\n",
       "    .dataframe thead th {\n",
       "        text-align: right;\n",
       "    }\n",
       "</style>\n",
       "<table border=\"1\" class=\"dataframe\">\n",
       "  <thead>\n",
       "    <tr style=\"text-align: right;\">\n",
       "      <th></th>\n",
       "      <th>children</th>\n",
       "      <th>days_employed</th>\n",
       "      <th>dob_years</th>\n",
       "      <th>education</th>\n",
       "      <th>education_id</th>\n",
       "      <th>family_status</th>\n",
       "      <th>family_status_id</th>\n",
       "      <th>gender</th>\n",
       "      <th>income_type</th>\n",
       "      <th>debt</th>\n",
       "      <th>total_income</th>\n",
       "      <th>purpose</th>\n",
       "    </tr>\n",
       "  </thead>\n",
       "  <tbody>\n",
       "    <tr>\n",
       "      <th>0</th>\n",
       "      <td>1</td>\n",
       "      <td>-8437.673028</td>\n",
       "      <td>42</td>\n",
       "      <td>bachelor's degree</td>\n",
       "      <td>0</td>\n",
       "      <td>married</td>\n",
       "      <td>0</td>\n",
       "      <td>F</td>\n",
       "      <td>employee</td>\n",
       "      <td>0</td>\n",
       "      <td>40620.102</td>\n",
       "      <td>purchase of the house</td>\n",
       "    </tr>\n",
       "    <tr>\n",
       "      <th>1</th>\n",
       "      <td>1</td>\n",
       "      <td>-4024.803754</td>\n",
       "      <td>36</td>\n",
       "      <td>secondary education</td>\n",
       "      <td>1</td>\n",
       "      <td>married</td>\n",
       "      <td>0</td>\n",
       "      <td>F</td>\n",
       "      <td>employee</td>\n",
       "      <td>0</td>\n",
       "      <td>17932.802</td>\n",
       "      <td>car purchase</td>\n",
       "    </tr>\n",
       "    <tr>\n",
       "      <th>2</th>\n",
       "      <td>0</td>\n",
       "      <td>-5623.422610</td>\n",
       "      <td>33</td>\n",
       "      <td>Secondary Education</td>\n",
       "      <td>1</td>\n",
       "      <td>married</td>\n",
       "      <td>0</td>\n",
       "      <td>M</td>\n",
       "      <td>employee</td>\n",
       "      <td>0</td>\n",
       "      <td>23341.752</td>\n",
       "      <td>purchase of the house</td>\n",
       "    </tr>\n",
       "    <tr>\n",
       "      <th>3</th>\n",
       "      <td>3</td>\n",
       "      <td>-4124.747207</td>\n",
       "      <td>32</td>\n",
       "      <td>secondary education</td>\n",
       "      <td>1</td>\n",
       "      <td>married</td>\n",
       "      <td>0</td>\n",
       "      <td>M</td>\n",
       "      <td>employee</td>\n",
       "      <td>0</td>\n",
       "      <td>42820.568</td>\n",
       "      <td>supplementary education</td>\n",
       "    </tr>\n",
       "    <tr>\n",
       "      <th>4</th>\n",
       "      <td>0</td>\n",
       "      <td>340266.072047</td>\n",
       "      <td>53</td>\n",
       "      <td>secondary education</td>\n",
       "      <td>1</td>\n",
       "      <td>civil partnership</td>\n",
       "      <td>1</td>\n",
       "      <td>F</td>\n",
       "      <td>retiree</td>\n",
       "      <td>0</td>\n",
       "      <td>25378.572</td>\n",
       "      <td>to have a wedding</td>\n",
       "    </tr>\n",
       "  </tbody>\n",
       "</table>\n",
       "</div>"
      ],
      "text/plain": [
       "   children  days_employed  dob_years            education  education_id  \\\n",
       "0         1   -8437.673028         42    bachelor's degree             0   \n",
       "1         1   -4024.803754         36  secondary education             1   \n",
       "2         0   -5623.422610         33  Secondary Education             1   \n",
       "3         3   -4124.747207         32  secondary education             1   \n",
       "4         0  340266.072047         53  secondary education             1   \n",
       "\n",
       "       family_status  family_status_id gender income_type  debt  total_income  \\\n",
       "0            married                 0      F    employee     0     40620.102   \n",
       "1            married                 0      F    employee     0     17932.802   \n",
       "2            married                 0      M    employee     0     23341.752   \n",
       "3            married                 0      M    employee     0     42820.568   \n",
       "4  civil partnership                 1      F     retiree     0     25378.572   \n",
       "\n",
       "                   purpose  \n",
       "0    purchase of the house  \n",
       "1             car purchase  \n",
       "2    purchase of the house  \n",
       "3  supplementary education  \n",
       "4        to have a wedding  "
      ]
     },
     "execution_count": 125,
     "metadata": {},
     "output_type": "execute_result"
    }
   ],
   "source": [
    "# let's print the first N rows\n",
    "\n",
    "N = 5  \n",
    "\n",
    "credit_score.head(N)"
   ]
  },
  {
   "cell_type": "code",
   "execution_count": 126,
   "metadata": {
    "scrolled": false
   },
   "outputs": [
    {
     "name": "stdout",
     "output_type": "stream",
     "text": [
      "<class 'pandas.core.frame.DataFrame'>\n",
      "RangeIndex: 21525 entries, 0 to 21524\n",
      "Data columns (total 12 columns):\n",
      " #   Column            Non-Null Count  Dtype  \n",
      "---  ------            --------------  -----  \n",
      " 0   children          21525 non-null  int64  \n",
      " 1   days_employed     19351 non-null  float64\n",
      " 2   dob_years         21525 non-null  int64  \n",
      " 3   education         21525 non-null  object \n",
      " 4   education_id      21525 non-null  int64  \n",
      " 5   family_status     21525 non-null  object \n",
      " 6   family_status_id  21525 non-null  int64  \n",
      " 7   gender            21525 non-null  object \n",
      " 8   income_type       21525 non-null  object \n",
      " 9   debt              21525 non-null  int64  \n",
      " 10  total_income      19351 non-null  float64\n",
      " 11  purpose           21525 non-null  object \n",
      "dtypes: float64(2), int64(5), object(5)\n",
      "memory usage: 2.0+ MB\n"
     ]
    }
   ],
   "source": [
    "# Get info on data\n",
    "credit_score.info()"
   ]
  },
  {
   "cell_type": "code",
   "execution_count": 127,
   "metadata": {
    "scrolled": true
   },
   "outputs": [
    {
     "name": "stdout",
     "output_type": "stream",
     "text": [
      "First column with missing data: days_employed\n"
     ]
    }
   ],
   "source": [
    "# Let's look in the filtered table at the the first column with missing data\n",
    "\n",
    "# Filtering the credit score to select only columns with missing values\n",
    "filtered_table = credit_score.loc[:, credit_score.isnull().any(axis=0)]\n",
    "\n",
    "# Getting the first column with missing data\n",
    "first_column_with_missing_data = filtered_table.columns[0]\n",
    "\n",
    "print(\"First column with missing data:\", first_column_with_missing_data)"
   ]
  },
  {
   "cell_type": "code",
   "execution_count": 128,
   "metadata": {},
   "outputs": [
    {
     "name": "stdout",
     "output_type": "stream",
     "text": [
      "Distribution of missing values counts in rows:\n",
      "0    19351\n",
      "2     2174\n",
      "dtype: int64\n"
     ]
    }
   ],
   "source": [
    "# Let's apply multiple conditions for filtering data and look at the number of rows in the filtered table.\n",
    "\n",
    "\n",
    "# Count the number of missing values in each row\n",
    "missing_values_count = credit_score.isnull().sum(axis=1)\n",
    "\n",
    "# Get the unique counts and their frequencies\n",
    "count_distribution = missing_values_count.value_counts()\n",
    "\n",
    "print(\"Distribution of missing values counts in rows:\")\n",
    "print(count_distribution)\n"
   ]
  },
  {
   "cell_type": "markdown",
   "metadata": {},
   "source": [
    "\n",
    "<b>Based on the distribution of missing values counts in rows: </b>\n",
    "\n",
    "<ol>\n",
    "<li>The majority of rows (19,351 out of the total) do not have any missing values.</li>\n",
    "<li>There are 2,174 rows that contain two missing values.</li>\n",
    "<li>From the data given, the distribution suggests that the missing values are not symmetric or evenly distributed across rows.</li>\n",
    "<li>The majority of rows have no missing values, while a smaller portion of rows might have two missing values.</li>\n",
    "<li>Early conclusion suggest an imbalance in the occurrence of missing values within the dataset.</li>\n",
    "</ol>"
   ]
  },
  {
   "cell_type": "markdown",
   "metadata": {},
   "source": [
    "**Intermediate conclusion**"
   ]
  },
  {
   "cell_type": "markdown",
   "metadata": {},
   "source": [
    "1. Missing data could be due to the specific client characteristic\n",
    "1. Check whether there's any dependence missing values have on the value of other indicators with the columns with identified specific client characteristic"
   ]
  },
  {
   "cell_type": "code",
   "execution_count": 129,
   "metadata": {},
   "outputs": [
    {
     "name": "stdout",
     "output_type": "stream",
     "text": [
      "Missing values per column:\n",
      "children               0\n",
      "days_employed       2174\n",
      "dob_years              0\n",
      "education              0\n",
      "education_id           0\n",
      "family_status          0\n",
      "family_status_id       0\n",
      "gender                 0\n",
      "income_type            0\n",
      "debt                   0\n",
      "total_income        2174\n",
      "purpose                0\n",
      "dtype: int64\n"
     ]
    }
   ],
   "source": [
    "# Let's investigate clients who do not have data on identified characteristic and the column with the missing values\n",
    "\n",
    "# Check for missing values in each column\n",
    "missing_values_per_column = credit_score.isnull().sum()\n",
    "\n",
    "print(\"Missing values per column:\")\n",
    "print(missing_values_per_column)"
   ]
  },
  {
   "cell_type": "code",
   "execution_count": 130,
   "metadata": {},
   "outputs": [
    {
     "name": "stdout",
     "output_type": "stream",
     "text": [
      "Distribution of missing values counts in rows:\n",
      "0    19351\n",
      "2     2174\n",
      "dtype: int64\n"
     ]
    }
   ],
   "source": [
    "# Step 1: Verify if the number of rows in the filtered table matches the number of missing values\n",
    "missing_values_count = credit_score.isnull().sum(axis=1)\n",
    "count_distribution = missing_values_count.value_counts()\n",
    "print(\"Distribution of missing values counts in rows:\")\n",
    "print(count_distribution)"
   ]
  },
  {
   "cell_type": "code",
   "execution_count": 131,
   "metadata": {},
   "outputs": [
    {
     "name": "stdout",
     "output_type": "stream",
     "text": [
      "Percentage of missing values in the whole dataset: 1.68\n"
     ]
    }
   ],
   "source": [
    "# Step 2: Calculate the percentage of missing values compared to the whole dataset\n",
    "total_missing_values = credit_score.isnull().sum().sum()\n",
    "total_entries = credit_score.size\n",
    "percentage_missing = (total_missing_values / total_entries) * 100\n",
    "rounded_percentage_missing = round(percentage_missing, 2)\n",
    "print(\"Percentage of missing values in the whole dataset:\", rounded_percentage_missing)"
   ]
  },
  {
   "cell_type": "code",
   "execution_count": 132,
   "metadata": {},
   "outputs": [
    {
     "name": "stdout",
     "output_type": "stream",
     "text": [
      "DataFrame containing rows with missing values:\n"
     ]
    },
    {
     "data": {
      "text/html": [
       "<div>\n",
       "<style scoped>\n",
       "    .dataframe tbody tr th:only-of-type {\n",
       "        vertical-align: middle;\n",
       "    }\n",
       "\n",
       "    .dataframe tbody tr th {\n",
       "        vertical-align: top;\n",
       "    }\n",
       "\n",
       "    .dataframe thead th {\n",
       "        text-align: right;\n",
       "    }\n",
       "</style>\n",
       "<table border=\"1\" class=\"dataframe\">\n",
       "  <thead>\n",
       "    <tr style=\"text-align: right;\">\n",
       "      <th></th>\n",
       "      <th>children</th>\n",
       "      <th>days_employed</th>\n",
       "      <th>dob_years</th>\n",
       "      <th>education</th>\n",
       "      <th>education_id</th>\n",
       "      <th>family_status</th>\n",
       "      <th>family_status_id</th>\n",
       "      <th>gender</th>\n",
       "      <th>income_type</th>\n",
       "      <th>debt</th>\n",
       "      <th>total_income</th>\n",
       "      <th>purpose</th>\n",
       "    </tr>\n",
       "  </thead>\n",
       "  <tbody>\n",
       "    <tr>\n",
       "      <th>12</th>\n",
       "      <td>0</td>\n",
       "      <td>NaN</td>\n",
       "      <td>65</td>\n",
       "      <td>secondary education</td>\n",
       "      <td>1</td>\n",
       "      <td>civil partnership</td>\n",
       "      <td>1</td>\n",
       "      <td>M</td>\n",
       "      <td>retiree</td>\n",
       "      <td>0</td>\n",
       "      <td>NaN</td>\n",
       "      <td>to have a wedding</td>\n",
       "    </tr>\n",
       "    <tr>\n",
       "      <th>26</th>\n",
       "      <td>0</td>\n",
       "      <td>NaN</td>\n",
       "      <td>41</td>\n",
       "      <td>secondary education</td>\n",
       "      <td>1</td>\n",
       "      <td>married</td>\n",
       "      <td>0</td>\n",
       "      <td>M</td>\n",
       "      <td>civil servant</td>\n",
       "      <td>0</td>\n",
       "      <td>NaN</td>\n",
       "      <td>education</td>\n",
       "    </tr>\n",
       "    <tr>\n",
       "      <th>29</th>\n",
       "      <td>0</td>\n",
       "      <td>NaN</td>\n",
       "      <td>63</td>\n",
       "      <td>secondary education</td>\n",
       "      <td>1</td>\n",
       "      <td>unmarried</td>\n",
       "      <td>4</td>\n",
       "      <td>F</td>\n",
       "      <td>retiree</td>\n",
       "      <td>0</td>\n",
       "      <td>NaN</td>\n",
       "      <td>building a real estate</td>\n",
       "    </tr>\n",
       "    <tr>\n",
       "      <th>41</th>\n",
       "      <td>0</td>\n",
       "      <td>NaN</td>\n",
       "      <td>50</td>\n",
       "      <td>secondary education</td>\n",
       "      <td>1</td>\n",
       "      <td>married</td>\n",
       "      <td>0</td>\n",
       "      <td>F</td>\n",
       "      <td>civil servant</td>\n",
       "      <td>0</td>\n",
       "      <td>NaN</td>\n",
       "      <td>second-hand car purchase</td>\n",
       "    </tr>\n",
       "    <tr>\n",
       "      <th>55</th>\n",
       "      <td>0</td>\n",
       "      <td>NaN</td>\n",
       "      <td>54</td>\n",
       "      <td>secondary education</td>\n",
       "      <td>1</td>\n",
       "      <td>civil partnership</td>\n",
       "      <td>1</td>\n",
       "      <td>F</td>\n",
       "      <td>retiree</td>\n",
       "      <td>1</td>\n",
       "      <td>NaN</td>\n",
       "      <td>to have a wedding</td>\n",
       "    </tr>\n",
       "    <tr>\n",
       "      <th>...</th>\n",
       "      <td>...</td>\n",
       "      <td>...</td>\n",
       "      <td>...</td>\n",
       "      <td>...</td>\n",
       "      <td>...</td>\n",
       "      <td>...</td>\n",
       "      <td>...</td>\n",
       "      <td>...</td>\n",
       "      <td>...</td>\n",
       "      <td>...</td>\n",
       "      <td>...</td>\n",
       "      <td>...</td>\n",
       "    </tr>\n",
       "    <tr>\n",
       "      <th>21489</th>\n",
       "      <td>2</td>\n",
       "      <td>NaN</td>\n",
       "      <td>47</td>\n",
       "      <td>Secondary Education</td>\n",
       "      <td>1</td>\n",
       "      <td>married</td>\n",
       "      <td>0</td>\n",
       "      <td>M</td>\n",
       "      <td>business</td>\n",
       "      <td>0</td>\n",
       "      <td>NaN</td>\n",
       "      <td>purchase of a car</td>\n",
       "    </tr>\n",
       "    <tr>\n",
       "      <th>21495</th>\n",
       "      <td>1</td>\n",
       "      <td>NaN</td>\n",
       "      <td>50</td>\n",
       "      <td>secondary education</td>\n",
       "      <td>1</td>\n",
       "      <td>civil partnership</td>\n",
       "      <td>1</td>\n",
       "      <td>F</td>\n",
       "      <td>employee</td>\n",
       "      <td>0</td>\n",
       "      <td>NaN</td>\n",
       "      <td>wedding ceremony</td>\n",
       "    </tr>\n",
       "    <tr>\n",
       "      <th>21497</th>\n",
       "      <td>0</td>\n",
       "      <td>NaN</td>\n",
       "      <td>48</td>\n",
       "      <td>BACHELOR'S DEGREE</td>\n",
       "      <td>0</td>\n",
       "      <td>married</td>\n",
       "      <td>0</td>\n",
       "      <td>F</td>\n",
       "      <td>business</td>\n",
       "      <td>0</td>\n",
       "      <td>NaN</td>\n",
       "      <td>building a property</td>\n",
       "    </tr>\n",
       "    <tr>\n",
       "      <th>21502</th>\n",
       "      <td>1</td>\n",
       "      <td>NaN</td>\n",
       "      <td>42</td>\n",
       "      <td>secondary education</td>\n",
       "      <td>1</td>\n",
       "      <td>married</td>\n",
       "      <td>0</td>\n",
       "      <td>F</td>\n",
       "      <td>employee</td>\n",
       "      <td>0</td>\n",
       "      <td>NaN</td>\n",
       "      <td>building a real estate</td>\n",
       "    </tr>\n",
       "    <tr>\n",
       "      <th>21510</th>\n",
       "      <td>2</td>\n",
       "      <td>NaN</td>\n",
       "      <td>28</td>\n",
       "      <td>secondary education</td>\n",
       "      <td>1</td>\n",
       "      <td>married</td>\n",
       "      <td>0</td>\n",
       "      <td>F</td>\n",
       "      <td>employee</td>\n",
       "      <td>0</td>\n",
       "      <td>NaN</td>\n",
       "      <td>car purchase</td>\n",
       "    </tr>\n",
       "  </tbody>\n",
       "</table>\n",
       "<p>2174 rows × 12 columns</p>\n",
       "</div>"
      ],
      "text/plain": [
       "       children  days_employed  dob_years            education  education_id  \\\n",
       "12            0            NaN         65  secondary education             1   \n",
       "26            0            NaN         41  secondary education             1   \n",
       "29            0            NaN         63  secondary education             1   \n",
       "41            0            NaN         50  secondary education             1   \n",
       "55            0            NaN         54  secondary education             1   \n",
       "...         ...            ...        ...                  ...           ...   \n",
       "21489         2            NaN         47  Secondary Education             1   \n",
       "21495         1            NaN         50  secondary education             1   \n",
       "21497         0            NaN         48    BACHELOR'S DEGREE             0   \n",
       "21502         1            NaN         42  secondary education             1   \n",
       "21510         2            NaN         28  secondary education             1   \n",
       "\n",
       "           family_status  family_status_id gender    income_type  debt  \\\n",
       "12     civil partnership                 1      M        retiree     0   \n",
       "26               married                 0      M  civil servant     0   \n",
       "29             unmarried                 4      F        retiree     0   \n",
       "41               married                 0      F  civil servant     0   \n",
       "55     civil partnership                 1      F        retiree     1   \n",
       "...                  ...               ...    ...            ...   ...   \n",
       "21489            married                 0      M       business     0   \n",
       "21495  civil partnership                 1      F       employee     0   \n",
       "21497            married                 0      F       business     0   \n",
       "21502            married                 0      F       employee     0   \n",
       "21510            married                 0      F       employee     0   \n",
       "\n",
       "       total_income                   purpose  \n",
       "12              NaN         to have a wedding  \n",
       "26              NaN                 education  \n",
       "29              NaN    building a real estate  \n",
       "41              NaN  second-hand car purchase  \n",
       "55              NaN         to have a wedding  \n",
       "...             ...                       ...  \n",
       "21489           NaN         purchase of a car  \n",
       "21495           NaN          wedding ceremony  \n",
       "21497           NaN       building a property  \n",
       "21502           NaN    building a real estate  \n",
       "21510           NaN              car purchase  \n",
       "\n",
       "[2174 rows x 12 columns]"
      ]
     },
     "execution_count": 132,
     "metadata": {},
     "output_type": "execute_result"
    }
   ],
   "source": [
    "# Create a new DataFrame copy with rows containing missing values in 'days_employed' or 'total_income'\n",
    "df_na = credit_score[credit_score[['days_employed', 'total_income']].isnull().any(axis=1)].copy()\n",
    "\n",
    "# Printing the new DataFrame containing rows with missing values\n",
    "print(\"DataFrame containing rows with missing values:\")\n",
    "df_na"
   ]
  },
  {
   "cell_type": "code",
   "execution_count": 133,
   "metadata": {
    "scrolled": true
   },
   "outputs": [
    {
     "name": "stdout",
     "output_type": "stream",
     "text": [
      "Distribution of Numerical Columns:\n"
     ]
    },
    {
     "data": {
      "text/html": [
       "<div>\n",
       "<style scoped>\n",
       "    .dataframe tbody tr th:only-of-type {\n",
       "        vertical-align: middle;\n",
       "    }\n",
       "\n",
       "    .dataframe tbody tr th {\n",
       "        vertical-align: top;\n",
       "    }\n",
       "\n",
       "    .dataframe thead th {\n",
       "        text-align: right;\n",
       "    }\n",
       "</style>\n",
       "<table border=\"1\" class=\"dataframe\">\n",
       "  <thead>\n",
       "    <tr style=\"text-align: right;\">\n",
       "      <th></th>\n",
       "      <th>children</th>\n",
       "      <th>days_employed</th>\n",
       "      <th>dob_years</th>\n",
       "      <th>education_id</th>\n",
       "      <th>family_status_id</th>\n",
       "      <th>debt</th>\n",
       "      <th>total_income</th>\n",
       "    </tr>\n",
       "  </thead>\n",
       "  <tbody>\n",
       "    <tr>\n",
       "      <th>count</th>\n",
       "      <td>21525.000000</td>\n",
       "      <td>19351.000000</td>\n",
       "      <td>21525.000000</td>\n",
       "      <td>21525.000000</td>\n",
       "      <td>21525.000000</td>\n",
       "      <td>21525.000000</td>\n",
       "      <td>19351.000000</td>\n",
       "    </tr>\n",
       "    <tr>\n",
       "      <th>mean</th>\n",
       "      <td>0.538908</td>\n",
       "      <td>63046.497661</td>\n",
       "      <td>43.293380</td>\n",
       "      <td>0.817236</td>\n",
       "      <td>0.972544</td>\n",
       "      <td>0.080883</td>\n",
       "      <td>26787.568355</td>\n",
       "    </tr>\n",
       "    <tr>\n",
       "      <th>std</th>\n",
       "      <td>1.381587</td>\n",
       "      <td>140827.311974</td>\n",
       "      <td>12.574584</td>\n",
       "      <td>0.548138</td>\n",
       "      <td>1.420324</td>\n",
       "      <td>0.272661</td>\n",
       "      <td>16475.450632</td>\n",
       "    </tr>\n",
       "    <tr>\n",
       "      <th>min</th>\n",
       "      <td>-1.000000</td>\n",
       "      <td>-18388.949901</td>\n",
       "      <td>0.000000</td>\n",
       "      <td>0.000000</td>\n",
       "      <td>0.000000</td>\n",
       "      <td>0.000000</td>\n",
       "      <td>3306.762000</td>\n",
       "    </tr>\n",
       "    <tr>\n",
       "      <th>25%</th>\n",
       "      <td>0.000000</td>\n",
       "      <td>-2747.423625</td>\n",
       "      <td>33.000000</td>\n",
       "      <td>1.000000</td>\n",
       "      <td>0.000000</td>\n",
       "      <td>0.000000</td>\n",
       "      <td>16488.504500</td>\n",
       "    </tr>\n",
       "    <tr>\n",
       "      <th>50%</th>\n",
       "      <td>0.000000</td>\n",
       "      <td>-1203.369529</td>\n",
       "      <td>42.000000</td>\n",
       "      <td>1.000000</td>\n",
       "      <td>0.000000</td>\n",
       "      <td>0.000000</td>\n",
       "      <td>23202.870000</td>\n",
       "    </tr>\n",
       "    <tr>\n",
       "      <th>75%</th>\n",
       "      <td>1.000000</td>\n",
       "      <td>-291.095954</td>\n",
       "      <td>53.000000</td>\n",
       "      <td>1.000000</td>\n",
       "      <td>1.000000</td>\n",
       "      <td>0.000000</td>\n",
       "      <td>32549.611000</td>\n",
       "    </tr>\n",
       "    <tr>\n",
       "      <th>max</th>\n",
       "      <td>20.000000</td>\n",
       "      <td>401755.400475</td>\n",
       "      <td>75.000000</td>\n",
       "      <td>4.000000</td>\n",
       "      <td>4.000000</td>\n",
       "      <td>1.000000</td>\n",
       "      <td>362496.645000</td>\n",
       "    </tr>\n",
       "  </tbody>\n",
       "</table>\n",
       "</div>"
      ],
      "text/plain": [
       "           children  days_employed     dob_years  education_id  \\\n",
       "count  21525.000000   19351.000000  21525.000000  21525.000000   \n",
       "mean       0.538908   63046.497661     43.293380      0.817236   \n",
       "std        1.381587  140827.311974     12.574584      0.548138   \n",
       "min       -1.000000  -18388.949901      0.000000      0.000000   \n",
       "25%        0.000000   -2747.423625     33.000000      1.000000   \n",
       "50%        0.000000   -1203.369529     42.000000      1.000000   \n",
       "75%        1.000000    -291.095954     53.000000      1.000000   \n",
       "max       20.000000  401755.400475     75.000000      4.000000   \n",
       "\n",
       "       family_status_id          debt   total_income  \n",
       "count      21525.000000  21525.000000   19351.000000  \n",
       "mean           0.972544      0.080883   26787.568355  \n",
       "std            1.420324      0.272661   16475.450632  \n",
       "min            0.000000      0.000000    3306.762000  \n",
       "25%            0.000000      0.000000   16488.504500  \n",
       "50%            0.000000      0.000000   23202.870000  \n",
       "75%            1.000000      0.000000   32549.611000  \n",
       "max            4.000000      1.000000  362496.645000  "
      ]
     },
     "execution_count": 133,
     "metadata": {},
     "output_type": "execute_result"
    }
   ],
   "source": [
    "# Checking distribution\n",
    "# Checking the distribution of numerical columns using .describe()\n",
    "numerical_columns = ['children', 'days_employed', 'dob_years', 'education_id', 'family_status_id', 'debt', 'total_income']\n",
    "\n",
    "numerical_stats = credit_score[numerical_columns].describe()\n",
    "\n",
    "print(\"Distribution of Numerical Columns:\")\n",
    "numerical_stats"
   ]
  },
  {
   "cell_type": "code",
   "execution_count": 134,
   "metadata": {},
   "outputs": [
    {
     "data": {
      "text/plain": [
       "employee         0.508280\n",
       "business         0.233671\n",
       "retiree          0.189972\n",
       "civil servant    0.067617\n",
       "entrepreneur     0.000460\n",
       "Name: income_type, dtype: float64"
      ]
     },
     "execution_count": 134,
     "metadata": {},
     "output_type": "execute_result"
    }
   ],
   "source": [
    "df_na['income_type'].value_counts(normalize = True)"
   ]
  },
  {
   "cell_type": "code",
   "execution_count": 135,
   "metadata": {},
   "outputs": [
    {
     "data": {
      "text/plain": [
       "employee                       0.516562\n",
       "business                       0.236237\n",
       "retiree                        0.179141\n",
       "civil servant                  0.067782\n",
       "entrepreneur                   0.000093\n",
       "unemployed                     0.000093\n",
       "paternity / maternity leave    0.000046\n",
       "student                        0.000046\n",
       "Name: income_type, dtype: float64"
      ]
     },
     "execution_count": 135,
     "metadata": {},
     "output_type": "execute_result"
    }
   ],
   "source": [
    "credit_score['income_type'].value_counts(normalize = True)"
   ]
  },
  {
   "cell_type": "code",
   "execution_count": 136,
   "metadata": {},
   "outputs": [
    {
     "data": {
      "text/plain": [
       "secondary education    0.647654\n",
       "bachelor's degree      0.228151\n",
       "SECONDARY EDUCATION    0.030819\n",
       "Secondary Education    0.029899\n",
       "some college           0.025299\n",
       "Bachelor's Degree      0.011500\n",
       "BACHELOR'S DEGREE      0.010580\n",
       "primary education      0.008740\n",
       "SOME COLLEGE           0.003220\n",
       "Some College           0.003220\n",
       "PRIMARY EDUCATION      0.000460\n",
       "Primary Education      0.000460\n",
       "Name: education, dtype: float64"
      ]
     },
     "execution_count": 136,
     "metadata": {},
     "output_type": "execute_result"
    }
   ],
   "source": [
    "df_na['education'].value_counts(normalize = True)"
   ]
  },
  {
   "cell_type": "code",
   "execution_count": 137,
   "metadata": {},
   "outputs": [
    {
     "data": {
      "text/plain": [
       "secondary education    0.638792\n",
       "bachelor's degree      0.219187\n",
       "SECONDARY EDUCATION    0.035865\n",
       "Secondary Education    0.033031\n",
       "some college           0.031034\n",
       "BACHELOR'S DEGREE      0.012729\n",
       "Bachelor's Degree      0.012451\n",
       "primary education      0.011614\n",
       "Some College           0.002184\n",
       "SOME COLLEGE           0.001347\n",
       "PRIMARY EDUCATION      0.000790\n",
       "Primary Education      0.000697\n",
       "graduate degree        0.000186\n",
       "Graduate Degree        0.000046\n",
       "GRADUATE DEGREE        0.000046\n",
       "Name: education, dtype: float64"
      ]
     },
     "execution_count": 137,
     "metadata": {},
     "output_type": "execute_result"
    }
   ],
   "source": [
    "credit_score['education'].value_counts(normalize = True)"
   ]
  },
  {
   "cell_type": "markdown",
   "metadata": {},
   "source": [
    "<b>Primary finding are:<b>"
   ]
  },
  {
   "cell_type": "markdown",
   "metadata": {},
   "source": [
    "Most of the loaner was employee with secondary education was the main core in the loaner education"
   ]
  },
  {
   "cell_type": "markdown",
   "metadata": {},
   "source": [
    "\n",
    "**Possible reasons for missing values in data**"
   ]
  },
  {
   "cell_type": "code",
   "execution_count": 138,
   "metadata": {},
   "outputs": [
    {
     "name": "stdout",
     "output_type": "stream",
     "text": [
      "Distribution of Numerical Columns:\n"
     ]
    },
    {
     "data": {
      "text/html": [
       "<div>\n",
       "<style scoped>\n",
       "    .dataframe tbody tr th:only-of-type {\n",
       "        vertical-align: middle;\n",
       "    }\n",
       "\n",
       "    .dataframe tbody tr th {\n",
       "        vertical-align: top;\n",
       "    }\n",
       "\n",
       "    .dataframe thead th {\n",
       "        text-align: right;\n",
       "    }\n",
       "</style>\n",
       "<table border=\"1\" class=\"dataframe\">\n",
       "  <thead>\n",
       "    <tr style=\"text-align: right;\">\n",
       "      <th></th>\n",
       "      <th>children</th>\n",
       "      <th>days_employed</th>\n",
       "      <th>dob_years</th>\n",
       "      <th>education_id</th>\n",
       "      <th>family_status_id</th>\n",
       "      <th>debt</th>\n",
       "      <th>total_income</th>\n",
       "    </tr>\n",
       "  </thead>\n",
       "  <tbody>\n",
       "    <tr>\n",
       "      <th>count</th>\n",
       "      <td>21525.000000</td>\n",
       "      <td>19351.000000</td>\n",
       "      <td>21525.000000</td>\n",
       "      <td>21525.000000</td>\n",
       "      <td>21525.000000</td>\n",
       "      <td>21525.000000</td>\n",
       "      <td>19351.000000</td>\n",
       "    </tr>\n",
       "    <tr>\n",
       "      <th>mean</th>\n",
       "      <td>0.538908</td>\n",
       "      <td>63046.497661</td>\n",
       "      <td>43.293380</td>\n",
       "      <td>0.817236</td>\n",
       "      <td>0.972544</td>\n",
       "      <td>0.080883</td>\n",
       "      <td>26787.568355</td>\n",
       "    </tr>\n",
       "    <tr>\n",
       "      <th>std</th>\n",
       "      <td>1.381587</td>\n",
       "      <td>140827.311974</td>\n",
       "      <td>12.574584</td>\n",
       "      <td>0.548138</td>\n",
       "      <td>1.420324</td>\n",
       "      <td>0.272661</td>\n",
       "      <td>16475.450632</td>\n",
       "    </tr>\n",
       "    <tr>\n",
       "      <th>min</th>\n",
       "      <td>-1.000000</td>\n",
       "      <td>-18388.949901</td>\n",
       "      <td>0.000000</td>\n",
       "      <td>0.000000</td>\n",
       "      <td>0.000000</td>\n",
       "      <td>0.000000</td>\n",
       "      <td>3306.762000</td>\n",
       "    </tr>\n",
       "    <tr>\n",
       "      <th>25%</th>\n",
       "      <td>0.000000</td>\n",
       "      <td>-2747.423625</td>\n",
       "      <td>33.000000</td>\n",
       "      <td>1.000000</td>\n",
       "      <td>0.000000</td>\n",
       "      <td>0.000000</td>\n",
       "      <td>16488.504500</td>\n",
       "    </tr>\n",
       "    <tr>\n",
       "      <th>50%</th>\n",
       "      <td>0.000000</td>\n",
       "      <td>-1203.369529</td>\n",
       "      <td>42.000000</td>\n",
       "      <td>1.000000</td>\n",
       "      <td>0.000000</td>\n",
       "      <td>0.000000</td>\n",
       "      <td>23202.870000</td>\n",
       "    </tr>\n",
       "    <tr>\n",
       "      <th>75%</th>\n",
       "      <td>1.000000</td>\n",
       "      <td>-291.095954</td>\n",
       "      <td>53.000000</td>\n",
       "      <td>1.000000</td>\n",
       "      <td>1.000000</td>\n",
       "      <td>0.000000</td>\n",
       "      <td>32549.611000</td>\n",
       "    </tr>\n",
       "    <tr>\n",
       "      <th>max</th>\n",
       "      <td>20.000000</td>\n",
       "      <td>401755.400475</td>\n",
       "      <td>75.000000</td>\n",
       "      <td>4.000000</td>\n",
       "      <td>4.000000</td>\n",
       "      <td>1.000000</td>\n",
       "      <td>362496.645000</td>\n",
       "    </tr>\n",
       "  </tbody>\n",
       "</table>\n",
       "</div>"
      ],
      "text/plain": [
       "           children  days_employed     dob_years  education_id  \\\n",
       "count  21525.000000   19351.000000  21525.000000  21525.000000   \n",
       "mean       0.538908   63046.497661     43.293380      0.817236   \n",
       "std        1.381587  140827.311974     12.574584      0.548138   \n",
       "min       -1.000000  -18388.949901      0.000000      0.000000   \n",
       "25%        0.000000   -2747.423625     33.000000      1.000000   \n",
       "50%        0.000000   -1203.369529     42.000000      1.000000   \n",
       "75%        1.000000    -291.095954     53.000000      1.000000   \n",
       "max       20.000000  401755.400475     75.000000      4.000000   \n",
       "\n",
       "       family_status_id          debt   total_income  \n",
       "count      21525.000000  21525.000000   19351.000000  \n",
       "mean           0.972544      0.080883   26787.568355  \n",
       "std            1.420324      0.272661   16475.450632  \n",
       "min            0.000000      0.000000    3306.762000  \n",
       "25%            0.000000      0.000000   16488.504500  \n",
       "50%            0.000000      0.000000   23202.870000  \n",
       "75%            1.000000      0.000000   32549.611000  \n",
       "max            4.000000      1.000000  362496.645000  "
      ]
     },
     "execution_count": 138,
     "metadata": {},
     "output_type": "execute_result"
    }
   ],
   "source": [
    "# Checking the distribution in the whole dataset\n",
    "# Checking the distribution of numerical columns using .describe()\n",
    "numerical_columns = ['children', 'days_employed', 'dob_years', 'education_id', 'family_status_id', 'debt', 'total_income']\n",
    "\n",
    "numerical_stats = credit_score[numerical_columns].describe()\n",
    "\n",
    "print(\"Distribution of Numerical Columns:\")\n",
    "numerical_stats"
   ]
  },
  {
   "cell_type": "markdown",
   "metadata": {},
   "source": [
    "**Intermediate conclusion**\n",
    "\n",
    "In conclusion, the dataset contains some data quality issues such as missing values, negative values in 'days_employed' and 'children', and unusual ages. These anomalies need to be addressed through data cleaning and preprocessing steps before conducting any further analysis or drawing meaningful conclusions from the data. Additionally, it is essential to investigate the categorical columns ('education_id' and 'family_status_id') to understand their labels and meanings."
   ]
  },
  {
   "cell_type": "code",
   "execution_count": 139,
   "metadata": {},
   "outputs": [
    {
     "name": "stdout",
     "output_type": "stream",
     "text": [
      "Distribution of Missing Values Based on 'income_type':\n",
      "employee         1105\n",
      "business          508\n",
      "retiree           413\n",
      "civil servant     147\n",
      "entrepreneur        1\n",
      "Name: income_type, dtype: int64\n",
      "\n",
      "Distribution of Missing Values Based on 'children' and 'family_status':\n"
     ]
    },
    {
     "data": {
      "text/plain": [
       "children  family_status    \n",
       "-1        married                2\n",
       "          unmarried              1\n",
       " 0        civil partnership    288\n",
       "          divorced              71\n",
       "          married              759\n",
       "          unmarried            231\n",
       "          widow / widower       90\n",
       " 1        civil partnership    101\n",
       "          divorced              32\n",
       "          married              299\n",
       "          unmarried             42\n",
       "          widow / widower        1\n",
       " 2        civil partnership     39\n",
       "          divorced               7\n",
       "          married              146\n",
       "          unmarried              9\n",
       "          widow / widower        3\n",
       " 3        civil partnership     11\n",
       "          divorced               1\n",
       "          married               23\n",
       "          unmarried              1\n",
       " 4        civil partnership      1\n",
       "          married                5\n",
       "          unmarried              1\n",
       " 5        civil partnership      1\n",
       " 20       civil partnership      1\n",
       "          divorced               1\n",
       "          married                3\n",
       "          unmarried              3\n",
       "          widow / widower        1\n",
       "Name: family_status, dtype: int64"
      ]
     },
     "execution_count": 139,
     "metadata": {},
     "output_type": "execute_result"
    }
   ],
   "source": [
    "# Check for other reasons and patterns that could lead to missing values\n",
    "\n",
    "\n",
    "# Step 1: Investigate the distribution of missing values based on 'income_type'\n",
    "missing_data_income_type = credit_score[credit_score[['days_employed', 'total_income']].isnull().any(axis=1)]\n",
    "income_type_distribution = missing_data_income_type['income_type'].value_counts()\n",
    "\n",
    "print(\"Distribution of Missing Values Based on 'income_type':\")\n",
    "print(income_type_distribution)\n",
    "\n",
    "# Step 2: Check for patterns in missing values based on other columns (e.g., 'children' and 'family_status')\n",
    "# Filter for rows with missing values in 'days_employed' and 'total_income'\n",
    "missing_data_pattern = credit_score[credit_score[['days_employed', 'total_income']].isnull().any(axis=1)]\n",
    "\n",
    "# Check the distribution of missing values based on 'children' and 'family_status'\n",
    "pattern_distribution = missing_data_pattern.groupby(['children', 'family_status'])['family_status'].count()\n",
    "\n",
    "print(\"\\nDistribution of Missing Values Based on 'children' and 'family_status':\")\n",
    "pattern_distribution\n"
   ]
  },
  {
   "cell_type": "markdown",
   "metadata": {},
   "source": [
    "**Intermediate conclusion**\n",
    "\n",
    "The accidental data input may play a role here."
   ]
  },
  {
   "cell_type": "code",
   "execution_count": 140,
   "metadata": {
    "scrolled": true
   },
   "outputs": [
    {
     "name": "stdout",
     "output_type": "stream",
     "text": [
      "Distribution of Missing Values Based on 'income_type':\n",
      "employee         1105\n",
      "business          508\n",
      "retiree           413\n",
      "civil servant     147\n",
      "entrepreneur        1\n",
      "Name: income_type, dtype: int64\n",
      "\n",
      "Distribution of Missing Values Based on 'education':\n",
      "secondary education    1408\n",
      "bachelor's degree       496\n",
      "SECONDARY EDUCATION      67\n",
      "Secondary Education      65\n",
      "some college             55\n",
      "Bachelor's Degree        25\n",
      "BACHELOR'S DEGREE        23\n",
      "primary education        19\n",
      "SOME COLLEGE              7\n",
      "Some College              7\n",
      "PRIMARY EDUCATION         1\n",
      "Primary Education         1\n",
      "Name: education, dtype: int64\n",
      "\n",
      "Distribution of Missing Values Based on 'purpose':\n",
      "having a wedding                            92\n",
      "to have a wedding                           81\n",
      "wedding ceremony                            76\n",
      "construction of own property                75\n",
      "housing transactions                        74\n",
      "buy real estate                             72\n",
      "transactions with my real estate            71\n",
      "purchase of the house for my family         71\n",
      "housing renovation                          70\n",
      "transactions with commercial real estate    70\n",
      "buy commercial real estate                  67\n",
      "buying property for renting out             65\n",
      "property                                    62\n",
      "buy residential real estate                 61\n",
      "real estate transactions                    61\n",
      "housing                                     60\n",
      "building a property                         59\n",
      "cars                                        57\n",
      "going to university                         56\n",
      "to become educated                          55\n",
      "second-hand car purchase                    54\n",
      "buying my own car                           53\n",
      "purchase of the house                       52\n",
      "to own a car                                52\n",
      "to get a supplementary education            51\n",
      "getting an education                        50\n",
      "supplementary education                     48\n",
      "profile education                           47\n",
      "building a real estate                      46\n",
      "purchase of my own house                    46\n",
      "purchase of a car                           46\n",
      "car purchase                                43\n",
      "education                                   42\n",
      "buying a second-hand car                    42\n",
      "car                                         41\n",
      "university education                        40\n",
      "getting higher education                    36\n",
      "to buy a car                                30\n",
      "Name: purpose, dtype: int64\n"
     ]
    }
   ],
   "source": [
    "# Checking for other patterns - explain which\n",
    "\n",
    "\n",
    "# Step 1: Investigate the distribution of missing values based on 'income_type'\n",
    "missing_data_income_type = credit_score[credit_score[['days_employed', 'total_income']].isnull().any(axis=1)]\n",
    "income_type_distribution = missing_data_income_type['income_type'].value_counts()\n",
    "\n",
    "print(\"Distribution of Missing Values Based on 'income_type':\")\n",
    "print(income_type_distribution)\n",
    "\n",
    "# Step 2: Investigate the distribution of missing values based on 'education'\n",
    "missing_data_education = credit_score[credit_score[['days_employed', 'total_income']].isnull().any(axis=1)]\n",
    "education_distribution = missing_data_education['education'].value_counts()\n",
    "\n",
    "print(\"\\nDistribution of Missing Values Based on 'education':\")\n",
    "print(education_distribution)\n",
    "\n",
    "# Step 3: Investigate the distribution of missing values based on 'purpose'\n",
    "missing_data_purpose = credit_score[credit_score[['days_employed', 'total_income']].isnull().any(axis=1)]\n",
    "purpose_distribution = missing_data_purpose['purpose'].value_counts()\n",
    "\n",
    "print(\"\\nDistribution of Missing Values Based on 'purpose':\")\n",
    "print(purpose_distribution)\n"
   ]
  },
  {
   "cell_type": "markdown",
   "metadata": {},
   "source": [
    "**Conclusions**"
   ]
  },
  {
   "cell_type": "markdown",
   "metadata": {},
   "source": [
    "Income Type: \n",
    ">The majority of missing values for 'income_type' fall into the category of \"employee\" (1105 missing values), followed by \"business\" (508 missing values) and there is only one missing value for \"entrepreneur.\" This indicates that the dataset mainly consists of employees and that missing values are more common among employees and business owners.\n",
    "\n",
    "Education: \n",
    ">The highest number of missing values for 'education' is associated with \"secondary education\" (1408 missing values), which is the most common category. It seems that missing values are more prevalent for individuals with lower educational backgrounds.\n",
    "\n",
    "Purpose: \n",
    ">The distribution of missing values based on 'purpose' is more scattered, with several different purposes having a significant number of missing values. The highest number of missing values is related to the purpose of \"having a wedding\" (92 missing values), followed by various real estate and housing-related purposes. This indicates that there may be incomplete information for specific purposes within the dataset.\n",
    "\n",
    "In summary, it appears that the missing values in this dataset are not uniformly distributed across different categories. The prevalence of missing values is influenced by the specific attributes, such as income type, education level, and loan purpose.  Proper imputation techniques or statistical methods should be employed to address missing values and minimize their impact on the analysis results."
   ]
  },
  {
   "cell_type": "markdown",
   "metadata": {},
   "source": [
    "## Data transformation <a id='transform'></a>"
   ]
  },
  {
   "cell_type": "code",
   "execution_count": 141,
   "metadata": {},
   "outputs": [
    {
     "name": "stdout",
     "output_type": "stream",
     "text": [
      "Unique values in the 'education' column:\n",
      "[\"bachelor's degree\" 'secondary education' 'Secondary Education'\n",
      " 'SECONDARY EDUCATION' \"BACHELOR'S DEGREE\" 'some college'\n",
      " 'primary education' \"Bachelor's Degree\" 'SOME COLLEGE' 'Some College'\n",
      " 'PRIMARY EDUCATION' 'Primary Education' 'Graduate Degree'\n",
      " 'GRADUATE DEGREE' 'graduate degree']\n"
     ]
    }
   ],
   "source": [
    "# Let's see all values in education column to check if and what spellings will need to be fixed\n",
    "\n",
    "# Check all unique values in the 'education' column\n",
    "unique_education_values = credit_score['education'].unique()\n",
    "\n",
    "print(\"Unique values in the 'education' column:\")\n",
    "print(unique_education_values)\n"
   ]
  },
  {
   "cell_type": "code",
   "execution_count": 142,
   "metadata": {
    "scrolled": true
   },
   "outputs": [
    {
     "name": "stdout",
     "output_type": "stream",
     "text": [
      "Unique values in the 'education' column after standardization:\n",
      "[\"bachelor's degree\" 'secondary education' 'some college'\n",
      " 'primary education' 'graduate degree']\n"
     ]
    }
   ],
   "source": [
    "# Fix the registers if required\n",
    "# Convert 'education' column values to lowercase for standardization\n",
    "credit_score['education'] = credit_score['education'].str.lower()\n",
    "\n",
    "# Check all unique values in the 'education' column after standardization\n",
    "unique_education_values = credit_score['education'].unique()\n",
    "\n",
    "print(\"Unique values in the 'education' column after standardization:\")\n",
    "print(unique_education_values)"
   ]
  },
  {
   "cell_type": "code",
   "execution_count": 143,
   "metadata": {},
   "outputs": [
    {
     "name": "stdout",
     "output_type": "stream",
     "text": [
      "Unique values in the 'education' column:\n",
      "[\"bachelor's degree\" 'secondary education' 'some college'\n",
      " 'primary education' 'graduate degree']\n"
     ]
    }
   ],
   "source": [
    "# Checking all the values in the column to make sure we fixed them\n",
    "\n",
    "# Check all unique values in the 'education' column\n",
    "unique_education_values = credit_score['education'].unique()\n",
    "\n",
    "print(\"Unique values in the 'education' column:\")\n",
    "print(unique_education_values)"
   ]
  },
  {
   "cell_type": "code",
   "execution_count": 144,
   "metadata": {},
   "outputs": [],
   "source": [
    "# Let's see the distribution of values in the `children` column\n",
    "\n",
    "# Count the frequency of each value in the 'children' column\n",
    "children_distribution = credit_score['children'].value_counts()\n",
    "\n",
    "# Sort the values by index (number of children) for better visualization\n",
    "children_distribution = children_distribution.sort_index()\n"
   ]
  },
  {
   "cell_type": "code",
   "execution_count": 145,
   "metadata": {},
   "outputs": [
    {
     "name": "stdout",
     "output_type": "stream",
     "text": [
      "Distribution of values in the 'children' column:\n"
     ]
    },
    {
     "data": {
      "text/plain": [
       "-1        47\n",
       " 0     14149\n",
       " 1      4818\n",
       " 2      2055\n",
       " 3       330\n",
       " 4        41\n",
       " 5         9\n",
       " 20       76\n",
       "Name: children, dtype: int64"
      ]
     },
     "execution_count": 145,
     "metadata": {},
     "output_type": "execute_result"
    }
   ],
   "source": [
    "print(\"Distribution of values in the 'children' column:\")\n",
    "children_distribution "
   ]
  },
  {
   "cell_type": "markdown",
   "metadata": {},
   "source": [
    "There is an error regarding the number of children. The (-1) and 20 child is illogical."
   ]
  },
  {
   "cell_type": "code",
   "execution_count": 146,
   "metadata": {},
   "outputs": [
    {
     "name": "stdout",
     "output_type": "stream",
     "text": [
      "Percentage distribution of values in the 'children' column:\n",
      "-1      0.218351\n",
      " 0     65.732869\n",
      " 1     22.383275\n",
      " 2      9.547038\n",
      " 3      1.533101\n",
      " 4      0.190476\n",
      " 5      0.041812\n",
      " 20     0.353078\n",
      "Name: children, dtype: float64\n"
     ]
    }
   ],
   "source": [
    "# Count the frequency of each value in the 'children' column\n",
    "children_distribution = credit_score['children'].value_counts()\n",
    "\n",
    "# Sort the values by index (number of children) for better visualization\n",
    "children_distribution = children_distribution.sort_index()\n",
    "\n",
    "# Calculate the percentage of clients for each category\n",
    "total_clients = len(credit_score)\n",
    "children_percentage = (children_distribution / total_clients) * 100\n",
    "\n",
    "print(\"Percentage distribution of values in the 'children' column:\")\n",
    "print(children_percentage)"
   ]
  },
  {
   "cell_type": "code",
   "execution_count": 147,
   "metadata": {},
   "outputs": [
    {
     "name": "stdout",
     "output_type": "stream",
     "text": [
      "Percentage distribution of values in the 'children' column after fixing the data:\n",
      "0    65.732869\n",
      "1    22.601626\n",
      "2     9.900116\n",
      "3     1.533101\n",
      "4     0.190476\n",
      "5     0.041812\n",
      "Name: children, dtype: float64\n"
     ]
    }
   ],
   "source": [
    "# [fix the data based on your decision, assuming the typo error present in the data]\n",
    "\n",
    "# Fix the data by replacing -1 with 1 and 20 with 2 in the 'children' column\n",
    "credit_score['children'] = credit_score['children'].replace(-1, 1)\n",
    "credit_score['children'] = credit_score['children'].replace(20, 2)\n",
    "\n",
    "# Count the frequency of each value in the 'children' column after fixing the data\n",
    "children_distribution = credit_score['children'].value_counts()\n",
    "\n",
    "# Sort the values by index (number of children) for better visualization\n",
    "children_distribution = children_distribution.sort_index()\n",
    "\n",
    "# Calculate the percentage of clients for each category\n",
    "total_clients = len(credit_score)\n",
    "children_percentage = (children_distribution / total_clients) * 100\n",
    "\n",
    "print(\"Percentage distribution of values in the 'children' column after fixing the data:\")\n",
    "print(children_percentage)\n"
   ]
  },
  {
   "cell_type": "code",
   "execution_count": 148,
   "metadata": {},
   "outputs": [
    {
     "name": "stdout",
     "output_type": "stream",
     "text": [
      "Distribution of values in the 'children' column after fixing the data:\n",
      "0    14149\n",
      "1     4865\n",
      "2     2131\n",
      "3      330\n",
      "4       41\n",
      "5        9\n",
      "Name: children, dtype: int64\n"
     ]
    }
   ],
   "source": [
    "# Checking the `children` column again to make sure it's all fixed\n",
    "\n",
    "print(\"Distribution of values in the 'children' column after fixing the data:\")\n",
    "print(children_distribution)"
   ]
  },
  {
   "cell_type": "code",
   "execution_count": 149,
   "metadata": {},
   "outputs": [
    {
     "name": "stdout",
     "output_type": "stream",
     "text": [
      "Percentage of problematic data in the 'days_employed' column: 89.90011614401858\n"
     ]
    }
   ],
   "source": [
    "# Find problematic data in `days_employed`, if they exist, and calculate the percentage\n",
    "\n",
    "# Check for negative values in the 'days_employed' column\n",
    "negative_days_employed = credit_score[credit_score['days_employed'] < 0]\n",
    "\n",
    "# Check for extremely large positive values in the 'days_employed' column (assuming 50 years of experience is an outlier)\n",
    "extremely_large_days_employed = credit_score[credit_score['days_employed'] > 18250]\n",
    "\n",
    "# Calculate the total number of rows with problematic data\n",
    "total_problematic_rows = len(negative_days_employed) + len(extremely_large_days_employed)\n",
    "\n",
    "# Calculate the percentage of problematic data compared to the whole dataset\n",
    "total_rows = len(credit_score)\n",
    "percentage_problematic_data = (total_problematic_rows / total_rows) * 100\n",
    "\n",
    "print(\"Percentage of problematic data in the 'days_employed' column:\", percentage_problematic_data)\n"
   ]
  },
  {
   "cell_type": "code",
   "execution_count": 150,
   "metadata": {},
   "outputs": [],
   "source": [
    "# Address the problematic values, if they exist\n",
    "\n",
    "# Address negative values by taking the absolute value\n",
    "credit_score['days_employed'] = credit_score['days_employed'].abs()\n",
    "\n",
    "# Address extremely large positive values (considering 50 years as an outlier)\n",
    "max_employment_days = 18250\n",
    "credit_score.loc[credit_score['days_employed'] > max_employment_days, 'days_employed'] = None\n",
    "\n",
    "# Check the updated distribution of 'days_employed' after addressing problematic values\n",
    "days_employed_stats = credit_score['days_employed'].describe()\n"
   ]
  },
  {
   "cell_type": "code",
   "execution_count": 151,
   "metadata": {},
   "outputs": [
    {
     "name": "stdout",
     "output_type": "stream",
     "text": [
      "Updated Distribution of 'days_employed' after addressing problematic values:\n",
      "count    15905.000000\n",
      "mean      2352.007700\n",
      "std       2300.804988\n",
      "min         24.141633\n",
      "25%        756.281915\n",
      "50%       1629.997862\n",
      "75%       3156.957393\n",
      "max      17615.563266\n",
      "Name: days_employed, dtype: float64\n"
     ]
    }
   ],
   "source": [
    "# Check the result - make sure it's fixed\n",
    "\n",
    "print(\"Updated Distribution of 'days_employed' after addressing problematic values:\")\n",
    "print(days_employed_stats)"
   ]
  },
  {
   "cell_type": "code",
   "execution_count": 152,
   "metadata": {
    "scrolled": true
   },
   "outputs": [
    {
     "name": "stdout",
     "output_type": "stream",
     "text": [
      "Percentage of suspicious values in the 'dob_years' column: 0.4692218350754936\n"
     ]
    }
   ],
   "source": [
    "# Check the `dob_years` for suspicious values and count the percentage\n",
    "\n",
    "# Check for suspicious values in the 'dob_years' column (age cannot be zero or negative)\n",
    "suspicious_dob_years = credit_score[credit_score['dob_years'] <= 0]\n",
    "\n",
    "# Calculate the total number of rows with suspicious values\n",
    "total_suspicious_rows = len(suspicious_dob_years)\n",
    "\n",
    "# Calculate the percentage of suspicious values compared to the whole dataset\n",
    "total_rows = len(credit_score)\n",
    "percentage_suspicious_data = (total_suspicious_rows / total_rows) * 100\n",
    "\n",
    "print(\"Percentage of suspicious values in the 'dob_years' column:\", percentage_suspicious_data)\n"
   ]
  },
  {
   "cell_type": "code",
   "execution_count": 153,
   "metadata": {},
   "outputs": [
    {
     "name": "stdout",
     "output_type": "stream",
     "text": [
      "Updated Distribution of 'dob_years' after addressing the issues:\n",
      "count    21525.000000\n",
      "mean        43.495145\n",
      "std         12.218213\n",
      "min         19.000000\n",
      "25%         34.000000\n",
      "50%         43.000000\n",
      "75%         53.000000\n",
      "max         75.000000\n",
      "Name: dob_years, dtype: float64\n"
     ]
    }
   ],
   "source": [
    "# Address the issues in the `dob_years` column, if they exist\n",
    "\n",
    "# Replace suspicious values (ages <= 0) with NaN to mark them as missing values\n",
    "credit_score['dob_years'] = credit_score['dob_years'].apply(lambda age: age if age > 0 else None)\n",
    "\n",
    "# Impute missing ages with the median age\n",
    "median_age = credit_score['dob_years'].median()\n",
    "credit_score['dob_years'].fillna(median_age, inplace=True)\n",
    "\n",
    "# Check the updated distribution of 'dob_years' after addressing the issues\n",
    "dob_years_stats = credit_score['dob_years'].describe()\n",
    "\n",
    "print(\"Updated Distribution of 'dob_years' after addressing the issues:\")\n",
    "print(dob_years_stats)\n",
    "\n"
   ]
  },
  {
   "cell_type": "code",
   "execution_count": 154,
   "metadata": {},
   "outputs": [
    {
     "name": "stdout",
     "output_type": "stream",
     "text": [
      "Updated Distribution of 'dob_years' after addressing the issues:\n",
      "count    21525.000000\n",
      "mean        43.495145\n",
      "std         12.218213\n",
      "min         19.000000\n",
      "25%         34.000000\n",
      "50%         43.000000\n",
      "75%         53.000000\n",
      "max         75.000000\n",
      "Name: dob_years, dtype: float64\n"
     ]
    }
   ],
   "source": [
    "# Check the result - make sure it's fixed\n",
    "\n",
    "print(\"Updated Distribution of 'dob_years' after addressing the issues:\")\n",
    "print(dob_years_stats)\n"
   ]
  },
  {
   "cell_type": "code",
   "execution_count": 155,
   "metadata": {},
   "outputs": [
    {
     "name": "stdout",
     "output_type": "stream",
     "text": [
      "Unique values in the 'family_status' column:\n",
      "['married' 'civil partnership' 'widow / widower' 'divorced' 'unmarried']\n"
     ]
    }
   ],
   "source": [
    "# Let's see the values for the column\n",
    "\n",
    "# Check the unique values in the 'family_status' column\n",
    "family_status_unique_values = credit_score['family_status'].unique()\n",
    "\n",
    "print(\"Unique values in the 'family_status' column:\")\n",
    "print(family_status_unique_values)\n"
   ]
  },
  {
   "cell_type": "code",
   "execution_count": 156,
   "metadata": {},
   "outputs": [
    {
     "name": "stdout",
     "output_type": "stream",
     "text": [
      "Updated unique values in the 'family_status' column:\n",
      "['Married' 'Civil partnership' 'Widow / widower' 'Divorced' 'Unmarried']\n"
     ]
    }
   ],
   "source": [
    "# Address the problematic values in `family_status`, if they exist\n",
    "\n",
    "# Convert all values to lowercase in the 'family_status' column\n",
    "credit_score['family_status'] = credit_score['family_status'].str.lower()\n",
    "\n",
    "# Capitalize the first letter of each family status\n",
    "credit_score['family_status'] = credit_score['family_status'].str.capitalize()\n",
    "\n",
    "# Check the updated unique values in the 'family_status' column\n",
    "family_status_unique_values = credit_score['family_status'].unique()\n",
    "\n",
    "print(\"Updated unique values in the 'family_status' column:\")\n",
    "print(family_status_unique_values)\n",
    "\n"
   ]
  },
  {
   "cell_type": "code",
   "execution_count": 157,
   "metadata": {},
   "outputs": [
    {
     "name": "stdout",
     "output_type": "stream",
     "text": [
      "Updated unique values in the 'family_status' column:\n",
      "['Married' 'Civil partnership' 'Widow / widower' 'Divorced' 'Unmarried']\n"
     ]
    }
   ],
   "source": [
    "# Check the result - make sure it's fixed\n",
    "print(\"Updated unique values in the 'family_status' column:\")\n",
    "print(family_status_unique_values)"
   ]
  },
  {
   "cell_type": "code",
   "execution_count": 158,
   "metadata": {},
   "outputs": [
    {
     "name": "stdout",
     "output_type": "stream",
     "text": [
      "Unique values in the 'gender' column:\n",
      "['F' 'M' 'XNA']\n"
     ]
    }
   ],
   "source": [
    "# Let's see the values in the column\n",
    "\n",
    "# Check the unique values in the 'gender' column\n",
    "gender_unique_values = credit_score['gender'].unique()\n",
    "\n",
    "print(\"Unique values in the 'gender' column:\")\n",
    "print(gender_unique_values)"
   ]
  },
  {
   "cell_type": "code",
   "execution_count": 159,
   "metadata": {},
   "outputs": [
    {
     "name": "stdout",
     "output_type": "stream",
     "text": [
      "Number of occurrences of 'XNA' in the 'gender' column: 1\n"
     ]
    }
   ],
   "source": [
    "gender_xna_count = credit_score['gender'].value_counts().get('XNA', 0)\n",
    "print(\"Number of occurrences of 'XNA' in the 'gender' column:\", gender_xna_count)"
   ]
  },
  {
   "cell_type": "code",
   "execution_count": 160,
   "metadata": {},
   "outputs": [
    {
     "name": "stdout",
     "output_type": "stream",
     "text": [
      "Updated unique values in the 'gender' column:\n",
      "['F' 'M' 'Xna']\n"
     ]
    }
   ],
   "source": [
    "# Address the problematic values, if they exist\n",
    "# Convert all values to lowercase in the 'gender' column\n",
    "credit_score['gender'] = credit_score['gender'].str.lower()\n",
    "\n",
    "# Capitalize the first letter of each gender\n",
    "credit_score['gender'] = credit_score['gender'].str.capitalize()\n",
    "\n",
    "# Check the updated unique values in the 'gender' column\n",
    "gender_unique_values = credit_score['gender'].unique()\n",
    "\n",
    "print(\"Updated unique values in the 'gender' column:\")\n",
    "print(gender_unique_values)\n"
   ]
  },
  {
   "cell_type": "code",
   "execution_count": 161,
   "metadata": {},
   "outputs": [
    {
     "name": "stdout",
     "output_type": "stream",
     "text": [
      "Updated unique values in the 'gender' column:\n",
      "['F' 'M' 'Xna']\n"
     ]
    }
   ],
   "source": [
    "# Check the result - make sure it's fixed\n",
    "\n",
    "print(\"Updated unique values in the 'gender' column:\")\n",
    "print(gender_unique_values)\n"
   ]
  },
  {
   "cell_type": "code",
   "execution_count": 162,
   "metadata": {},
   "outputs": [
    {
     "name": "stdout",
     "output_type": "stream",
     "text": [
      "Updated unique values in the 'gender' column:\n",
      "['F' 'M']\n"
     ]
    }
   ],
   "source": [
    "# Drop rows with 'Xna' value in the 'gender' column\n",
    "credit_score = credit_score[credit_score['gender'] != 'Xna']\n",
    "\n",
    "# Check the updated unique values in the 'gender' column\n",
    "gender_unique_values = credit_score['gender'].unique()\n",
    "\n",
    "print(\"Updated unique values in the 'gender' column:\")\n",
    "print(gender_unique_values)"
   ]
  },
  {
   "cell_type": "code",
   "execution_count": 163,
   "metadata": {},
   "outputs": [
    {
     "name": "stdout",
     "output_type": "stream",
     "text": [
      "Number of occurrences of 'XNA' in the 'gender' column: 0\n"
     ]
    }
   ],
   "source": [
    "gender_xna_count = credit_score['gender'].value_counts().get('XNA', 0)\n",
    "print(\"Number of occurrences of 'XNA' in the 'gender' column:\", gender_xna_count)"
   ]
  },
  {
   "cell_type": "code",
   "execution_count": 164,
   "metadata": {},
   "outputs": [
    {
     "name": "stdout",
     "output_type": "stream",
     "text": [
      "Unique values in the 'income_type' column:\n",
      "['employee' 'retiree' 'business' 'civil servant' 'unemployed'\n",
      " 'entrepreneur' 'student' 'paternity / maternity leave']\n"
     ]
    }
   ],
   "source": [
    "# Let's see the values in the column\n",
    "# Check the unique values in the 'income_type' column\n",
    "income_type_unique_values = credit_score['income_type'].unique()\n",
    "\n",
    "print(\"Unique values in the 'income_type' column:\")\n",
    "print(income_type_unique_values)\n"
   ]
  },
  {
   "cell_type": "code",
   "execution_count": 165,
   "metadata": {},
   "outputs": [
    {
     "name": "stdout",
     "output_type": "stream",
     "text": [
      "Updated unique values in the 'income_type' column:\n",
      "['Employee' 'Retiree' 'Business' 'Civil servant' 'Unemployed'\n",
      " 'Entrepreneur' 'Student' 'Paternity / maternity leave']\n"
     ]
    }
   ],
   "source": [
    "# Address the problematic values, if they exist\n",
    "\n",
    "# Convert all values to lowercase in the 'income_type' column\n",
    "credit_score['income_type'] = credit_score['income_type'].str.lower()\n",
    "\n",
    "# Capitalize the first letter of each income type\n",
    "credit_score['income_type'] = credit_score['income_type'].str.capitalize()\n",
    "\n",
    "# Check the updated unique values in the 'income_type' column\n",
    "income_type_unique_values = credit_score['income_type'].unique()\n",
    "\n",
    "print(\"Updated unique values in the 'income_type' column:\")\n",
    "print(income_type_unique_values)\n"
   ]
  },
  {
   "cell_type": "code",
   "execution_count": 166,
   "metadata": {},
   "outputs": [
    {
     "name": "stdout",
     "output_type": "stream",
     "text": [
      "Updated unique values in the 'income_type' column:\n",
      "['Employee' 'Retiree' 'Business' 'Civil servant' 'Unemployed'\n",
      " 'Entrepreneur' 'Student' 'Paternity / maternity leave']\n"
     ]
    }
   ],
   "source": [
    "# Check the result - make sure it's fixed\n",
    "print(\"Updated unique values in the 'income_type' column:\")\n",
    "print(income_type_unique_values)"
   ]
  },
  {
   "cell_type": "code",
   "execution_count": 167,
   "metadata": {},
   "outputs": [
    {
     "name": "stdout",
     "output_type": "stream",
     "text": [
      "Number of duplicate rows: 71\n"
     ]
    }
   ],
   "source": [
    "# Checking duplicates\n",
    "\n",
    "# Check for duplicates in the DataFrame\n",
    "duplicates = credit_score.duplicated()\n",
    "\n",
    "# Count the number of duplicates\n",
    "num_duplicates = duplicates.sum()\n",
    "\n",
    "print(\"Number of duplicate rows:\", num_duplicates)\n"
   ]
  },
  {
   "cell_type": "markdown",
   "metadata": {},
   "source": [
    "--The result is similar, but yours is much shorter. My code is for sake of continuity and ease of understanding as a beginner in coding. Its matter of preference, really.--"
   ]
  },
  {
   "cell_type": "code",
   "execution_count": 168,
   "metadata": {},
   "outputs": [
    {
     "name": "stdout",
     "output_type": "stream",
     "text": [
      "Number of duplicate rows after removal: 0\n"
     ]
    }
   ],
   "source": [
    "# Address the duplicates, if they exist\n",
    "\n",
    "# Drop the duplicate rows\n",
    "credit_score.drop_duplicates(ignore_index=True, inplace=True)\n",
    "\n",
    "# Confirm that duplicates have been removed\n",
    "duplicates_after_removal = credit_score.duplicated().sum()\n",
    "print(\"Number of duplicate rows after removal:\", duplicates_after_removal)\n"
   ]
  },
  {
   "cell_type": "code",
   "execution_count": 169,
   "metadata": {},
   "outputs": [
    {
     "name": "stdout",
     "output_type": "stream",
     "text": [
      "Number of duplicate rows after removal: 0\n"
     ]
    }
   ],
   "source": [
    "# Create a copy of the DataFrame to avoid the warning\n",
    "credit_score_copy = credit_score.copy()\n",
    "\n",
    "# Drop the duplicate rows from the copied DataFrame\n",
    "credit_score_copy.drop_duplicates(ignore_index=True, inplace=True)\n",
    "\n",
    "# Confirm that duplicates have been removed from the copied DataFrame\n",
    "duplicates_after_removal = credit_score_copy.duplicated().sum()\n",
    "print(\"Number of duplicate rows after removal:\", duplicates_after_removal)"
   ]
  },
  {
   "cell_type": "code",
   "execution_count": 170,
   "metadata": {},
   "outputs": [
    {
     "name": "stdout",
     "output_type": "stream",
     "text": [
      "Number of duplicate rows after removal: 0\n"
     ]
    }
   ],
   "source": [
    "# Last check whether we have any duplicates\n",
    "# Confirm that duplicates have been removed\n",
    "duplicates_after_removal = credit_score.duplicated().sum()\n",
    "print(\"Number of duplicate rows after removal:\", duplicates_after_removal)\n"
   ]
  },
  {
   "cell_type": "code",
   "execution_count": 171,
   "metadata": {},
   "outputs": [
    {
     "name": "stdout",
     "output_type": "stream",
     "text": [
      "Size of the original dataset: (21453, 12)\n",
      "Size of the new dataset after removing duplicates: (21453, 12)\n",
      "Percentage change in dataset size: 0.0\n"
     ]
    }
   ],
   "source": [
    "# Check the size of the dataset that you now have after your first manipulations with it\n",
    "# Check the size of the original dataset\n",
    "original_size = credit_score.shape\n",
    "\n",
    "# Remove duplicates\n",
    "credit_score.drop_duplicates(ignore_index=True, inplace=True)\n",
    "\n",
    "# Check the size of the new dataset after removing duplicates\n",
    "new_size = credit_score.shape\n",
    "\n",
    "# Calculate the percentage change in dataset size\n",
    "percentage_change = ((original_size[0] - new_size[0]) / original_size[0]) * 100\n",
    "rounded_percentage_change = round(percentage_change, 2)\n",
    "\n",
    "print(\"Size of the original dataset:\", original_size)\n",
    "print(\"Size of the new dataset after removing duplicates:\", new_size)\n",
    "print(\"Percentage change in dataset size:\", rounded_percentage_change)\n"
   ]
  },
  {
   "cell_type": "code",
   "execution_count": 172,
   "metadata": {},
   "outputs": [
    {
     "name": "stdout",
     "output_type": "stream",
     "text": [
      "Size of the original dataset: (21453, 12)\n",
      "Size of the new dataset after removing duplicates: (21453, 12)\n",
      "Percentage change in dataset size: 0.0\n"
     ]
    }
   ],
   "source": [
    "# Check the size of the dataset that you now have after your first manipulations with it\n",
    "# Check the size of the original dataset\n",
    "original_size = credit_score.shape\n",
    "\n",
    "# Create a copy of the DataFrame to avoid the warning\n",
    "credit_score_copy = credit_score.copy()\n",
    "\n",
    "# Remove duplicates from the copied DataFrame\n",
    "credit_score_copy.drop_duplicates(ignore_index=True, inplace=True)\n",
    "\n",
    "# Check the size of the new dataset after removing duplicates\n",
    "new_size = credit_score_copy.shape\n",
    "\n",
    "# Calculate the percentage change in dataset size\n",
    "percentage_change = ((original_size[0] - new_size[0]) / original_size[0]) * 100\n",
    "rounded_percentage_change = round(percentage_change, 2)\n",
    "\n",
    "print(\"Size of the original dataset:\", original_size)\n",
    "print(\"Size of the new dataset after removing duplicates:\", new_size)\n",
    "print(\"Percentage change in dataset size:\", rounded_percentage_change)"
   ]
  },
  {
   "cell_type": "markdown",
   "metadata": {},
   "source": [
    "# Working with missing values <a id='missing'></a>"
   ]
  },
  {
   "cell_type": "code",
   "execution_count": 173,
   "metadata": {},
   "outputs": [
    {
     "name": "stdout",
     "output_type": "stream",
     "text": [
      "Education Dictionary:\n",
      "{\"bachelor's degree\": 0, 'secondary education': 1, 'some college': 2, 'primary education': 3, 'graduate degree': 4}\n",
      "Family Status Dictionary:\n",
      "{'Married': 0, 'Civil partnership': 1, 'Widow / widower': 2, 'Divorced': 3, 'Unmarried': 4}\n"
     ]
    }
   ],
   "source": [
    "# Find the dictionaries\n",
    "\n",
    "# Find unique values and corresponding ID columns\n",
    "education_dict = dict(zip(credit_score['education'], credit_score['education_id']))\n",
    "family_status_dict = dict(zip(credit_score['family_status'], credit_score['family_status_id']))\n",
    "\n",
    "print(\"Education Dictionary:\")\n",
    "print(education_dict)\n",
    "\n",
    "print(\"Family Status Dictionary:\")\n",
    "print(family_status_dict)\n"
   ]
  },
  {
   "cell_type": "markdown",
   "metadata": {},
   "source": [
    "### Restoring missing values in `total_income` <a id='missing-income'></a>"
   ]
  },
  {
   "cell_type": "code",
   "execution_count": 113,
   "metadata": {},
   "outputs": [
    {
     "name": "stdout",
     "output_type": "stream",
     "text": [
      "Age Category: Adult\n"
     ]
    }
   ],
   "source": [
    "# Let's write a function that calculates the age category\n",
    "\n",
    "def calculate_age_category(age):\n",
    "    if age < 18:\n",
    "        return 'Teenager'\n",
    "    elif 18 <= age < 30:\n",
    "        return 'Young Adult'\n",
    "    elif 30 <= age < 45:\n",
    "        return 'Adult'\n",
    "    elif 45 <= age < 60:\n",
    "        return 'Middle-aged'\n",
    "    else:\n",
    "        return 'Senior'\n",
    "\n",
    "# Example usage:\n",
    "age = 35\n",
    "age_category = calculate_age_category(age)\n",
    "print(\"Age Category:\", age_category)\n"
   ]
  },
  {
   "cell_type": "code",
   "execution_count": 178,
   "metadata": {},
   "outputs": [
    {
     "name": "stdout",
     "output_type": "stream",
     "text": [
      "Number of individual in respective age:\n",
      "Adult          8628\n",
      "Middle-aged    7146\n",
      "Young Adult    3179\n",
      "Senior         2500\n",
      "Name: age_category, dtype: int64\n"
     ]
    }
   ],
   "source": [
    "# Apply the function to create a new column 'age_category'\n",
    "credit_score['age_category'] = credit_score['dob_years'].apply(calculate_age_category)\n",
    "\n",
    "# Count the number of individuals in each age category\n",
    "age_category_counts = credit_score['age_category'].value_counts()\n",
    "\n",
    "# Print the result\n",
    "print('Number of individual in respective age:')\n",
    "print(age_category_counts)\n"
   ]
  },
  {
   "cell_type": "code",
   "execution_count": 179,
   "metadata": {},
   "outputs": [
    {
     "name": "stdout",
     "output_type": "stream",
     "text": [
      "Age Category: Adult\n"
     ]
    }
   ],
   "source": [
    "# Test if the function works\n",
    "age = 35\n",
    "age_category = calculate_age_category(age)\n",
    "print(\"Age Category:\", age_category)\n"
   ]
  },
  {
   "cell_type": "code",
   "execution_count": 180,
   "metadata": {},
   "outputs": [
    {
     "data": {
      "text/html": [
       "<div>\n",
       "<style scoped>\n",
       "    .dataframe tbody tr th:only-of-type {\n",
       "        vertical-align: middle;\n",
       "    }\n",
       "\n",
       "    .dataframe tbody tr th {\n",
       "        vertical-align: top;\n",
       "    }\n",
       "\n",
       "    .dataframe thead th {\n",
       "        text-align: right;\n",
       "    }\n",
       "</style>\n",
       "<table border=\"1\" class=\"dataframe\">\n",
       "  <thead>\n",
       "    <tr style=\"text-align: right;\">\n",
       "      <th></th>\n",
       "      <th>children</th>\n",
       "      <th>days_employed</th>\n",
       "      <th>dob_years</th>\n",
       "      <th>education</th>\n",
       "      <th>education_id</th>\n",
       "      <th>family_status</th>\n",
       "      <th>family_status_id</th>\n",
       "      <th>gender</th>\n",
       "      <th>income_type</th>\n",
       "      <th>debt</th>\n",
       "      <th>total_income</th>\n",
       "      <th>purpose</th>\n",
       "      <th>age_category</th>\n",
       "    </tr>\n",
       "  </thead>\n",
       "  <tbody>\n",
       "    <tr>\n",
       "      <th>0</th>\n",
       "      <td>1</td>\n",
       "      <td>8437.673028</td>\n",
       "      <td>42.0</td>\n",
       "      <td>bachelor's degree</td>\n",
       "      <td>0</td>\n",
       "      <td>Married</td>\n",
       "      <td>0</td>\n",
       "      <td>F</td>\n",
       "      <td>Employee</td>\n",
       "      <td>0</td>\n",
       "      <td>40620.102</td>\n",
       "      <td>purchase of the house</td>\n",
       "      <td>Adult</td>\n",
       "    </tr>\n",
       "    <tr>\n",
       "      <th>1</th>\n",
       "      <td>1</td>\n",
       "      <td>4024.803754</td>\n",
       "      <td>36.0</td>\n",
       "      <td>secondary education</td>\n",
       "      <td>1</td>\n",
       "      <td>Married</td>\n",
       "      <td>0</td>\n",
       "      <td>F</td>\n",
       "      <td>Employee</td>\n",
       "      <td>0</td>\n",
       "      <td>17932.802</td>\n",
       "      <td>car purchase</td>\n",
       "      <td>Adult</td>\n",
       "    </tr>\n",
       "    <tr>\n",
       "      <th>2</th>\n",
       "      <td>0</td>\n",
       "      <td>5623.422610</td>\n",
       "      <td>33.0</td>\n",
       "      <td>secondary education</td>\n",
       "      <td>1</td>\n",
       "      <td>Married</td>\n",
       "      <td>0</td>\n",
       "      <td>M</td>\n",
       "      <td>Employee</td>\n",
       "      <td>0</td>\n",
       "      <td>23341.752</td>\n",
       "      <td>purchase of the house</td>\n",
       "      <td>Adult</td>\n",
       "    </tr>\n",
       "    <tr>\n",
       "      <th>3</th>\n",
       "      <td>3</td>\n",
       "      <td>4124.747207</td>\n",
       "      <td>32.0</td>\n",
       "      <td>secondary education</td>\n",
       "      <td>1</td>\n",
       "      <td>Married</td>\n",
       "      <td>0</td>\n",
       "      <td>M</td>\n",
       "      <td>Employee</td>\n",
       "      <td>0</td>\n",
       "      <td>42820.568</td>\n",
       "      <td>supplementary education</td>\n",
       "      <td>Adult</td>\n",
       "    </tr>\n",
       "    <tr>\n",
       "      <th>4</th>\n",
       "      <td>0</td>\n",
       "      <td>NaN</td>\n",
       "      <td>53.0</td>\n",
       "      <td>secondary education</td>\n",
       "      <td>1</td>\n",
       "      <td>Civil partnership</td>\n",
       "      <td>1</td>\n",
       "      <td>F</td>\n",
       "      <td>Retiree</td>\n",
       "      <td>0</td>\n",
       "      <td>25378.572</td>\n",
       "      <td>to have a wedding</td>\n",
       "      <td>Middle-aged</td>\n",
       "    </tr>\n",
       "  </tbody>\n",
       "</table>\n",
       "</div>"
      ],
      "text/plain": [
       "   children  days_employed  dob_years            education  education_id  \\\n",
       "0         1    8437.673028       42.0    bachelor's degree             0   \n",
       "1         1    4024.803754       36.0  secondary education             1   \n",
       "2         0    5623.422610       33.0  secondary education             1   \n",
       "3         3    4124.747207       32.0  secondary education             1   \n",
       "4         0            NaN       53.0  secondary education             1   \n",
       "\n",
       "       family_status  family_status_id gender income_type  debt  total_income  \\\n",
       "0            Married                 0      F    Employee     0     40620.102   \n",
       "1            Married                 0      F    Employee     0     17932.802   \n",
       "2            Married                 0      M    Employee     0     23341.752   \n",
       "3            Married                 0      M    Employee     0     42820.568   \n",
       "4  Civil partnership                 1      F     Retiree     0     25378.572   \n",
       "\n",
       "                   purpose age_category  \n",
       "0    purchase of the house        Adult  \n",
       "1             car purchase        Adult  \n",
       "2    purchase of the house        Adult  \n",
       "3  supplementary education        Adult  \n",
       "4        to have a wedding  Middle-aged  "
      ]
     },
     "execution_count": 180,
     "metadata": {},
     "output_type": "execute_result"
    }
   ],
   "source": [
    "# Creating new column based on function\n",
    "# Apply the function to create the 'age_category' column\n",
    "credit_score['age_category'] = credit_score_copy['dob_years'].map(calculate_age_category)\n",
    "\n",
    "# Display the DataFrame with the new 'age_category' column\n",
    "credit_score.head()\n"
   ]
  },
  {
   "cell_type": "code",
   "execution_count": 181,
   "metadata": {},
   "outputs": [
    {
     "name": "stdout",
     "output_type": "stream",
     "text": [
      "Adult          8628\n",
      "Middle-aged    7146\n",
      "Young Adult    3179\n",
      "Senior         2500\n",
      "Name: age_category, dtype: int64\n"
     ]
    }
   ],
   "source": [
    "# Checking how values in the new column\n",
    "# Check the values in the 'age_category' column\n",
    "age_category_counts = credit_score['age_category'].value_counts()\n",
    "\n",
    "# Display the counts\n",
    "print(age_category_counts)\n"
   ]
  },
  {
   "cell_type": "code",
   "execution_count": 182,
   "metadata": {},
   "outputs": [
    {
     "data": {
      "text/html": [
       "<div>\n",
       "<style scoped>\n",
       "    .dataframe tbody tr th:only-of-type {\n",
       "        vertical-align: middle;\n",
       "    }\n",
       "\n",
       "    .dataframe tbody tr th {\n",
       "        vertical-align: top;\n",
       "    }\n",
       "\n",
       "    .dataframe thead th {\n",
       "        text-align: right;\n",
       "    }\n",
       "</style>\n",
       "<table border=\"1\" class=\"dataframe\">\n",
       "  <thead>\n",
       "    <tr style=\"text-align: right;\">\n",
       "      <th></th>\n",
       "      <th>children</th>\n",
       "      <th>days_employed</th>\n",
       "      <th>dob_years</th>\n",
       "      <th>education</th>\n",
       "      <th>education_id</th>\n",
       "      <th>family_status</th>\n",
       "      <th>family_status_id</th>\n",
       "      <th>gender</th>\n",
       "      <th>income_type</th>\n",
       "      <th>debt</th>\n",
       "      <th>total_income</th>\n",
       "      <th>purpose</th>\n",
       "      <th>age_category</th>\n",
       "    </tr>\n",
       "  </thead>\n",
       "  <tbody>\n",
       "    <tr>\n",
       "      <th>0</th>\n",
       "      <td>1</td>\n",
       "      <td>8437.673028</td>\n",
       "      <td>42.0</td>\n",
       "      <td>bachelor's degree</td>\n",
       "      <td>0</td>\n",
       "      <td>Married</td>\n",
       "      <td>0</td>\n",
       "      <td>F</td>\n",
       "      <td>Employee</td>\n",
       "      <td>0</td>\n",
       "      <td>40620.102</td>\n",
       "      <td>purchase of the house</td>\n",
       "      <td>Adult</td>\n",
       "    </tr>\n",
       "    <tr>\n",
       "      <th>1</th>\n",
       "      <td>1</td>\n",
       "      <td>4024.803754</td>\n",
       "      <td>36.0</td>\n",
       "      <td>secondary education</td>\n",
       "      <td>1</td>\n",
       "      <td>Married</td>\n",
       "      <td>0</td>\n",
       "      <td>F</td>\n",
       "      <td>Employee</td>\n",
       "      <td>0</td>\n",
       "      <td>17932.802</td>\n",
       "      <td>car purchase</td>\n",
       "      <td>Adult</td>\n",
       "    </tr>\n",
       "    <tr>\n",
       "      <th>2</th>\n",
       "      <td>0</td>\n",
       "      <td>5623.422610</td>\n",
       "      <td>33.0</td>\n",
       "      <td>secondary education</td>\n",
       "      <td>1</td>\n",
       "      <td>Married</td>\n",
       "      <td>0</td>\n",
       "      <td>M</td>\n",
       "      <td>Employee</td>\n",
       "      <td>0</td>\n",
       "      <td>23341.752</td>\n",
       "      <td>purchase of the house</td>\n",
       "      <td>Adult</td>\n",
       "    </tr>\n",
       "    <tr>\n",
       "      <th>3</th>\n",
       "      <td>3</td>\n",
       "      <td>4124.747207</td>\n",
       "      <td>32.0</td>\n",
       "      <td>secondary education</td>\n",
       "      <td>1</td>\n",
       "      <td>Married</td>\n",
       "      <td>0</td>\n",
       "      <td>M</td>\n",
       "      <td>Employee</td>\n",
       "      <td>0</td>\n",
       "      <td>42820.568</td>\n",
       "      <td>supplementary education</td>\n",
       "      <td>Adult</td>\n",
       "    </tr>\n",
       "    <tr>\n",
       "      <th>5</th>\n",
       "      <td>0</td>\n",
       "      <td>926.185831</td>\n",
       "      <td>27.0</td>\n",
       "      <td>bachelor's degree</td>\n",
       "      <td>0</td>\n",
       "      <td>Civil partnership</td>\n",
       "      <td>1</td>\n",
       "      <td>M</td>\n",
       "      <td>Business</td>\n",
       "      <td>0</td>\n",
       "      <td>40922.170</td>\n",
       "      <td>purchase of the house</td>\n",
       "      <td>Young Adult</td>\n",
       "    </tr>\n",
       "    <tr>\n",
       "      <th>...</th>\n",
       "      <td>...</td>\n",
       "      <td>...</td>\n",
       "      <td>...</td>\n",
       "      <td>...</td>\n",
       "      <td>...</td>\n",
       "      <td>...</td>\n",
       "      <td>...</td>\n",
       "      <td>...</td>\n",
       "      <td>...</td>\n",
       "      <td>...</td>\n",
       "      <td>...</td>\n",
       "      <td>...</td>\n",
       "      <td>...</td>\n",
       "    </tr>\n",
       "    <tr>\n",
       "      <th>21447</th>\n",
       "      <td>1</td>\n",
       "      <td>2351.431934</td>\n",
       "      <td>37.0</td>\n",
       "      <td>graduate degree</td>\n",
       "      <td>4</td>\n",
       "      <td>Divorced</td>\n",
       "      <td>3</td>\n",
       "      <td>M</td>\n",
       "      <td>Employee</td>\n",
       "      <td>0</td>\n",
       "      <td>18551.846</td>\n",
       "      <td>buy commercial real estate</td>\n",
       "      <td>Adult</td>\n",
       "    </tr>\n",
       "    <tr>\n",
       "      <th>21448</th>\n",
       "      <td>1</td>\n",
       "      <td>4529.316663</td>\n",
       "      <td>43.0</td>\n",
       "      <td>secondary education</td>\n",
       "      <td>1</td>\n",
       "      <td>Civil partnership</td>\n",
       "      <td>1</td>\n",
       "      <td>F</td>\n",
       "      <td>Business</td>\n",
       "      <td>0</td>\n",
       "      <td>35966.698</td>\n",
       "      <td>housing transactions</td>\n",
       "      <td>Adult</td>\n",
       "    </tr>\n",
       "    <tr>\n",
       "      <th>21450</th>\n",
       "      <td>1</td>\n",
       "      <td>2113.346888</td>\n",
       "      <td>38.0</td>\n",
       "      <td>secondary education</td>\n",
       "      <td>1</td>\n",
       "      <td>Civil partnership</td>\n",
       "      <td>1</td>\n",
       "      <td>M</td>\n",
       "      <td>Employee</td>\n",
       "      <td>1</td>\n",
       "      <td>14347.610</td>\n",
       "      <td>property</td>\n",
       "      <td>Adult</td>\n",
       "    </tr>\n",
       "    <tr>\n",
       "      <th>21451</th>\n",
       "      <td>3</td>\n",
       "      <td>3112.481705</td>\n",
       "      <td>38.0</td>\n",
       "      <td>secondary education</td>\n",
       "      <td>1</td>\n",
       "      <td>Married</td>\n",
       "      <td>0</td>\n",
       "      <td>M</td>\n",
       "      <td>Employee</td>\n",
       "      <td>1</td>\n",
       "      <td>39054.888</td>\n",
       "      <td>buying my own car</td>\n",
       "      <td>Adult</td>\n",
       "    </tr>\n",
       "    <tr>\n",
       "      <th>21452</th>\n",
       "      <td>2</td>\n",
       "      <td>1984.507589</td>\n",
       "      <td>40.0</td>\n",
       "      <td>secondary education</td>\n",
       "      <td>1</td>\n",
       "      <td>Married</td>\n",
       "      <td>0</td>\n",
       "      <td>F</td>\n",
       "      <td>Employee</td>\n",
       "      <td>0</td>\n",
       "      <td>13127.587</td>\n",
       "      <td>to buy a car</td>\n",
       "      <td>Adult</td>\n",
       "    </tr>\n",
       "  </tbody>\n",
       "</table>\n",
       "<p>15904 rows × 13 columns</p>\n",
       "</div>"
      ],
      "text/plain": [
       "       children  days_employed  dob_years            education  education_id  \\\n",
       "0             1    8437.673028       42.0    bachelor's degree             0   \n",
       "1             1    4024.803754       36.0  secondary education             1   \n",
       "2             0    5623.422610       33.0  secondary education             1   \n",
       "3             3    4124.747207       32.0  secondary education             1   \n",
       "5             0     926.185831       27.0    bachelor's degree             0   \n",
       "...         ...            ...        ...                  ...           ...   \n",
       "21447         1    2351.431934       37.0      graduate degree             4   \n",
       "21448         1    4529.316663       43.0  secondary education             1   \n",
       "21450         1    2113.346888       38.0  secondary education             1   \n",
       "21451         3    3112.481705       38.0  secondary education             1   \n",
       "21452         2    1984.507589       40.0  secondary education             1   \n",
       "\n",
       "           family_status  family_status_id gender income_type  debt  \\\n",
       "0                Married                 0      F    Employee     0   \n",
       "1                Married                 0      F    Employee     0   \n",
       "2                Married                 0      M    Employee     0   \n",
       "3                Married                 0      M    Employee     0   \n",
       "5      Civil partnership                 1      M    Business     0   \n",
       "...                  ...               ...    ...         ...   ...   \n",
       "21447           Divorced                 3      M    Employee     0   \n",
       "21448  Civil partnership                 1      F    Business     0   \n",
       "21450  Civil partnership                 1      M    Employee     1   \n",
       "21451            Married                 0      M    Employee     1   \n",
       "21452            Married                 0      F    Employee     0   \n",
       "\n",
       "       total_income                     purpose age_category  \n",
       "0         40620.102       purchase of the house        Adult  \n",
       "1         17932.802                car purchase        Adult  \n",
       "2         23341.752       purchase of the house        Adult  \n",
       "3         42820.568     supplementary education        Adult  \n",
       "5         40922.170       purchase of the house  Young Adult  \n",
       "...             ...                         ...          ...  \n",
       "21447     18551.846  buy commercial real estate        Adult  \n",
       "21448     35966.698        housing transactions        Adult  \n",
       "21450     14347.610                    property        Adult  \n",
       "21451     39054.888           buying my own car        Adult  \n",
       "21452     13127.587                to buy a car        Adult  \n",
       "\n",
       "[15904 rows x 13 columns]"
      ]
     },
     "execution_count": 182,
     "metadata": {},
     "output_type": "execute_result"
    }
   ],
   "source": [
    "# Create a table without missing values and print a few of its rows to make sure it looks fine\n",
    "# Create a new DataFrame without missing values\n",
    "complete_data = credit_score.dropna()\n",
    "\n",
    "# Display the new DataFrame\n",
    "complete_data\n"
   ]
  },
  {
   "cell_type": "code",
   "execution_count": 221,
   "metadata": {},
   "outputs": [
    {
     "name": "stdout",
     "output_type": "stream",
     "text": [
      "education          family_status      income_type  \n",
      "bachelor's degree  Civil partnership  Business         27643.468931\n",
      "                                      Civil servant    27167.979245\n",
      "                                      Employee         26956.959259\n",
      "                                      Entrepreneur     27089.606743\n",
      "                                      Retiree          26512.996748\n",
      "                                                           ...     \n",
      "some college       Unmarried          Employee         26875.257203\n",
      "                                      Retiree          24790.570220\n",
      "                   Widow / widower    Business         27089.606743\n",
      "                                      Employee         27089.606743\n",
      "                                      Retiree          27089.606743\n",
      "Name: total_income, Length: 86, dtype: float64\n"
     ]
    }
   ],
   "source": [
    "# Look at the mean values for income based on your identified factors\n",
    "# Group the data based on the identified factors and calculate the mean income for each group\n",
    "income_mean_by_factors = credit_score.groupby(['education', 'family_status', 'income_type'])['total_income'].mean()\n",
    "\n",
    "# Display the result\n",
    "print(income_mean_by_factors)"
   ]
  },
  {
   "cell_type": "code",
   "execution_count": 222,
   "metadata": {
    "scrolled": true
   },
   "outputs": [
    {
     "name": "stdout",
     "output_type": "stream",
     "text": [
      "education          family_status      income_type  \n",
      "bachelor's degree  Civil partnership  Business         27089.606743\n",
      "                                      Civil servant    27089.606743\n",
      "                                      Employee         27089.606743\n",
      "                                      Entrepreneur     27089.606743\n",
      "                                      Retiree          27089.606743\n",
      "                                                           ...     \n",
      "some college       Unmarried          Employee         27089.606743\n",
      "                                      Retiree          27089.606743\n",
      "                   Widow / widower    Business         27089.606743\n",
      "                                      Employee         27089.606743\n",
      "                                      Retiree          27089.606743\n",
      "Name: total_income, Length: 86, dtype: float64\n"
     ]
    }
   ],
   "source": [
    "# Look at the median values for income based on your identified factors\n",
    "\n",
    "# Group the data based on the identified factors and calculate the median income for each group\n",
    "income_median_by_factors = credit_score.groupby(['education', 'family_status', 'income_type'])['total_income'].median()\n",
    "\n",
    "# Display the result\n",
    "print(income_median_by_factors)"
   ]
  },
  {
   "cell_type": "code",
   "execution_count": 223,
   "metadata": {},
   "outputs": [
    {
     "name": "stdout",
     "output_type": "stream",
     "text": [
      "                                                                  mean  \\\n",
      "education         family_status     income_type   gender                 \n",
      "bachelor's degree Civil partnership Business      F       27685.117160   \n",
      "                                                  M       27550.256230   \n",
      "                                    Civil servant F       27176.578846   \n",
      "                                                  M       27134.486061   \n",
      "                                    Employee      F       26957.777832   \n",
      "...                                                                ...   \n",
      "some college      Unmarried         Employee      M       26852.158598   \n",
      "                                    Retiree       F       24790.570220   \n",
      "                  Widow / widower   Business      F       27089.606743   \n",
      "                                    Employee      F       27089.606743   \n",
      "                                    Retiree       F       27089.606743   \n",
      "\n",
      "                                                                median  \n",
      "education         family_status     income_type   gender                \n",
      "bachelor's degree Civil partnership Business      F       27089.606743  \n",
      "                                                  M       27089.606743  \n",
      "                                    Civil servant F       27089.606743  \n",
      "                                                  M       27089.606743  \n",
      "                                    Employee      F       27089.606743  \n",
      "...                                                                ...  \n",
      "some college      Unmarried         Employee      M       27089.606743  \n",
      "                                    Retiree       F       27089.606743  \n",
      "                  Widow / widower   Business      F       27089.606743  \n",
      "                                    Employee      F       27089.606743  \n",
      "                                    Retiree       F       27089.606743  \n",
      "\n",
      "[153 rows x 2 columns]\n"
     ]
    }
   ],
   "source": [
    "# Group the data based on multiple factors and calculate the mean and median income for each group\n",
    "income_comparison = credit_score.groupby(['education', 'family_status', 'income_type', 'gender'])['total_income'].agg(['mean', 'median'])\n",
    "\n",
    "# Display the result\n",
    "print(income_comparison)"
   ]
  },
  {
   "cell_type": "code",
   "execution_count": 224,
   "metadata": {},
   "outputs": [
    {
     "name": "stdout",
     "output_type": "stream",
     "text": [
      "Size of the dataset after manipulations: (21453, 15)\n"
     ]
    },
    {
     "data": {
      "text/plain": [
       "'Description of the new dataset:'"
      ]
     },
     "metadata": {},
     "output_type": "display_data"
    },
    {
     "data": {
      "text/html": [
       "<div>\n",
       "<style scoped>\n",
       "    .dataframe tbody tr th:only-of-type {\n",
       "        vertical-align: middle;\n",
       "    }\n",
       "\n",
       "    .dataframe tbody tr th {\n",
       "        vertical-align: top;\n",
       "    }\n",
       "\n",
       "    .dataframe thead th {\n",
       "        text-align: right;\n",
       "    }\n",
       "</style>\n",
       "<table border=\"1\" class=\"dataframe\">\n",
       "  <thead>\n",
       "    <tr style=\"text-align: right;\">\n",
       "      <th></th>\n",
       "      <th>children</th>\n",
       "      <th>days_employed</th>\n",
       "      <th>dob_years</th>\n",
       "      <th>education_id</th>\n",
       "      <th>family_status_id</th>\n",
       "      <th>debt</th>\n",
       "      <th>total_income</th>\n",
       "    </tr>\n",
       "  </thead>\n",
       "  <tbody>\n",
       "    <tr>\n",
       "      <th>count</th>\n",
       "      <td>21453.000000</td>\n",
       "      <td>21453.000000</td>\n",
       "      <td>21453.000000</td>\n",
       "      <td>21453.000000</td>\n",
       "      <td>21453.000000</td>\n",
       "      <td>21453.000000</td>\n",
       "      <td>21453.000000</td>\n",
       "    </tr>\n",
       "    <tr>\n",
       "      <th>mean</th>\n",
       "      <td>0.480585</td>\n",
       "      <td>2319.593235</td>\n",
       "      <td>43.474572</td>\n",
       "      <td>0.817042</td>\n",
       "      <td>0.973896</td>\n",
       "      <td>0.081154</td>\n",
       "      <td>27063.604183</td>\n",
       "    </tr>\n",
       "    <tr>\n",
       "      <th>std</th>\n",
       "      <td>0.756079</td>\n",
       "      <td>1994.999975</td>\n",
       "      <td>12.213068</td>\n",
       "      <td>0.548628</td>\n",
       "      <td>1.421601</td>\n",
       "      <td>0.273078</td>\n",
       "      <td>1162.346058</td>\n",
       "    </tr>\n",
       "    <tr>\n",
       "      <th>min</th>\n",
       "      <td>0.000000</td>\n",
       "      <td>24.141633</td>\n",
       "      <td>19.000000</td>\n",
       "      <td>0.000000</td>\n",
       "      <td>0.000000</td>\n",
       "      <td>0.000000</td>\n",
       "      <td>14888.651857</td>\n",
       "    </tr>\n",
       "    <tr>\n",
       "      <th>25%</th>\n",
       "      <td>0.000000</td>\n",
       "      <td>996.731080</td>\n",
       "      <td>33.000000</td>\n",
       "      <td>1.000000</td>\n",
       "      <td>0.000000</td>\n",
       "      <td>0.000000</td>\n",
       "      <td>27089.606743</td>\n",
       "    </tr>\n",
       "    <tr>\n",
       "      <th>50%</th>\n",
       "      <td>0.000000</td>\n",
       "      <td>2123.531290</td>\n",
       "      <td>43.000000</td>\n",
       "      <td>1.000000</td>\n",
       "      <td>0.000000</td>\n",
       "      <td>0.000000</td>\n",
       "      <td>27089.606743</td>\n",
       "    </tr>\n",
       "    <tr>\n",
       "      <th>75%</th>\n",
       "      <td>1.000000</td>\n",
       "      <td>2663.211434</td>\n",
       "      <td>53.000000</td>\n",
       "      <td>1.000000</td>\n",
       "      <td>1.000000</td>\n",
       "      <td>0.000000</td>\n",
       "      <td>27089.606743</td>\n",
       "    </tr>\n",
       "    <tr>\n",
       "      <th>max</th>\n",
       "      <td>5.000000</td>\n",
       "      <td>17615.563266</td>\n",
       "      <td>75.000000</td>\n",
       "      <td>4.000000</td>\n",
       "      <td>4.000000</td>\n",
       "      <td>1.000000</td>\n",
       "      <td>33421.728652</td>\n",
       "    </tr>\n",
       "  </tbody>\n",
       "</table>\n",
       "</div>"
      ],
      "text/plain": [
       "           children  days_employed     dob_years  education_id  \\\n",
       "count  21453.000000   21453.000000  21453.000000  21453.000000   \n",
       "mean       0.480585    2319.593235     43.474572      0.817042   \n",
       "std        0.756079    1994.999975     12.213068      0.548628   \n",
       "min        0.000000      24.141633     19.000000      0.000000   \n",
       "25%        0.000000     996.731080     33.000000      1.000000   \n",
       "50%        0.000000    2123.531290     43.000000      1.000000   \n",
       "75%        1.000000    2663.211434     53.000000      1.000000   \n",
       "max        5.000000   17615.563266     75.000000      4.000000   \n",
       "\n",
       "       family_status_id          debt  total_income  \n",
       "count      21453.000000  21453.000000  21453.000000  \n",
       "mean           0.973896      0.081154  27063.604183  \n",
       "std            1.421601      0.273078   1162.346058  \n",
       "min            0.000000      0.000000  14888.651857  \n",
       "25%            0.000000      0.000000  27089.606743  \n",
       "50%            0.000000      0.000000  27089.606743  \n",
       "75%            1.000000      0.000000  27089.606743  \n",
       "max            4.000000      1.000000  33421.728652  "
      ]
     },
     "metadata": {},
     "output_type": "display_data"
    }
   ],
   "source": [
    "\n",
    "# Step 19: Calculate mean income by income type and age category\n",
    "mean_income_by_group = credit_score.groupby(['income_type', 'age_category'])['total_income'].mean()\n",
    "\n",
    "# Step 20: Fill missing total_income values based on income type and age category\n",
    "def fill_missing_income(row):\n",
    "    income_type = row['income_type']\n",
    "    total_income = row['total_income']\n",
    "    \n",
    "    if pd.isnull(total_income):\n",
    "        if income_type in mean_income_by_group:\n",
    "            age_category = row['age_category']\n",
    "            return mean_income_by_group[income_type][age_category]\n",
    "    return total_income\n",
    "\n",
    "credit_score['total_income'] = credit_score.apply(fill_missing_income, axis=1)\n",
    "\n",
    "# Step 21: Check the size of the dataset after manipulations\n",
    "print(\"Size of the dataset after manipulations:\", credit_score.shape)\n",
    "\n",
    "# Step 22: Describe the new dataset\n",
    "description = credit_score.describe()\n",
    "display(\"Description of the new dataset:\")\n",
    "display(description)\n"
   ]
  },
  {
   "cell_type": "code",
   "execution_count": 185,
   "metadata": {
    "scrolled": true
   },
   "outputs": [
    {
     "name": "stdout",
     "output_type": "stream",
     "text": [
      "Missing values per column after filling:\n",
      "children               0\n",
      "days_employed       5549\n",
      "dob_years              0\n",
      "education              0\n",
      "education_id           0\n",
      "family_status          0\n",
      "family_status_id       0\n",
      "gender                 0\n",
      "income_type            0\n",
      "debt                   0\n",
      "total_income        2103\n",
      "purpose                0\n",
      "age_category           0\n",
      "dtype: int64\n"
     ]
    }
   ],
   "source": [
    "# Check if we got any errors\n",
    "missing_values_after_fill = credit_score.isnull().sum()\n",
    "print(\"Missing values per column after filling:\")\n",
    "print(missing_values_after_fill)"
   ]
  },
  {
   "cell_type": "code",
   "execution_count": 184,
   "metadata": {},
   "outputs": [
    {
     "data": {
      "text/html": [
       "<div>\n",
       "<style scoped>\n",
       "    .dataframe tbody tr th:only-of-type {\n",
       "        vertical-align: middle;\n",
       "    }\n",
       "\n",
       "    .dataframe tbody tr th {\n",
       "        vertical-align: top;\n",
       "    }\n",
       "\n",
       "    .dataframe thead th {\n",
       "        text-align: right;\n",
       "    }\n",
       "</style>\n",
       "<table border=\"1\" class=\"dataframe\">\n",
       "  <thead>\n",
       "    <tr style=\"text-align: right;\">\n",
       "      <th></th>\n",
       "      <th>children</th>\n",
       "      <th>days_employed</th>\n",
       "      <th>dob_years</th>\n",
       "      <th>education</th>\n",
       "      <th>education_id</th>\n",
       "      <th>family_status</th>\n",
       "      <th>family_status_id</th>\n",
       "      <th>gender</th>\n",
       "      <th>income_type</th>\n",
       "      <th>debt</th>\n",
       "      <th>total_income</th>\n",
       "      <th>purpose</th>\n",
       "      <th>age_category</th>\n",
       "    </tr>\n",
       "  </thead>\n",
       "  <tbody>\n",
       "    <tr>\n",
       "      <th>0</th>\n",
       "      <td>1</td>\n",
       "      <td>8437.673028</td>\n",
       "      <td>42.0</td>\n",
       "      <td>bachelor's degree</td>\n",
       "      <td>0</td>\n",
       "      <td>Married</td>\n",
       "      <td>0</td>\n",
       "      <td>F</td>\n",
       "      <td>Employee</td>\n",
       "      <td>0</td>\n",
       "      <td>40620.102</td>\n",
       "      <td>purchase of the house</td>\n",
       "      <td>Adult</td>\n",
       "    </tr>\n",
       "    <tr>\n",
       "      <th>1</th>\n",
       "      <td>1</td>\n",
       "      <td>4024.803754</td>\n",
       "      <td>36.0</td>\n",
       "      <td>secondary education</td>\n",
       "      <td>1</td>\n",
       "      <td>Married</td>\n",
       "      <td>0</td>\n",
       "      <td>F</td>\n",
       "      <td>Employee</td>\n",
       "      <td>0</td>\n",
       "      <td>17932.802</td>\n",
       "      <td>car purchase</td>\n",
       "      <td>Adult</td>\n",
       "    </tr>\n",
       "    <tr>\n",
       "      <th>2</th>\n",
       "      <td>0</td>\n",
       "      <td>5623.422610</td>\n",
       "      <td>33.0</td>\n",
       "      <td>secondary education</td>\n",
       "      <td>1</td>\n",
       "      <td>Married</td>\n",
       "      <td>0</td>\n",
       "      <td>M</td>\n",
       "      <td>Employee</td>\n",
       "      <td>0</td>\n",
       "      <td>23341.752</td>\n",
       "      <td>purchase of the house</td>\n",
       "      <td>Adult</td>\n",
       "    </tr>\n",
       "    <tr>\n",
       "      <th>3</th>\n",
       "      <td>3</td>\n",
       "      <td>4124.747207</td>\n",
       "      <td>32.0</td>\n",
       "      <td>secondary education</td>\n",
       "      <td>1</td>\n",
       "      <td>Married</td>\n",
       "      <td>0</td>\n",
       "      <td>M</td>\n",
       "      <td>Employee</td>\n",
       "      <td>0</td>\n",
       "      <td>42820.568</td>\n",
       "      <td>supplementary education</td>\n",
       "      <td>Adult</td>\n",
       "    </tr>\n",
       "    <tr>\n",
       "      <th>4</th>\n",
       "      <td>0</td>\n",
       "      <td>NaN</td>\n",
       "      <td>53.0</td>\n",
       "      <td>secondary education</td>\n",
       "      <td>1</td>\n",
       "      <td>Civil partnership</td>\n",
       "      <td>1</td>\n",
       "      <td>F</td>\n",
       "      <td>Retiree</td>\n",
       "      <td>0</td>\n",
       "      <td>25378.572</td>\n",
       "      <td>to have a wedding</td>\n",
       "      <td>Middle-aged</td>\n",
       "    </tr>\n",
       "    <tr>\n",
       "      <th>...</th>\n",
       "      <td>...</td>\n",
       "      <td>...</td>\n",
       "      <td>...</td>\n",
       "      <td>...</td>\n",
       "      <td>...</td>\n",
       "      <td>...</td>\n",
       "      <td>...</td>\n",
       "      <td>...</td>\n",
       "      <td>...</td>\n",
       "      <td>...</td>\n",
       "      <td>...</td>\n",
       "      <td>...</td>\n",
       "      <td>...</td>\n",
       "    </tr>\n",
       "    <tr>\n",
       "      <th>21448</th>\n",
       "      <td>1</td>\n",
       "      <td>4529.316663</td>\n",
       "      <td>43.0</td>\n",
       "      <td>secondary education</td>\n",
       "      <td>1</td>\n",
       "      <td>Civil partnership</td>\n",
       "      <td>1</td>\n",
       "      <td>F</td>\n",
       "      <td>Business</td>\n",
       "      <td>0</td>\n",
       "      <td>35966.698</td>\n",
       "      <td>housing transactions</td>\n",
       "      <td>Adult</td>\n",
       "    </tr>\n",
       "    <tr>\n",
       "      <th>21449</th>\n",
       "      <td>0</td>\n",
       "      <td>NaN</td>\n",
       "      <td>67.0</td>\n",
       "      <td>secondary education</td>\n",
       "      <td>1</td>\n",
       "      <td>Married</td>\n",
       "      <td>0</td>\n",
       "      <td>F</td>\n",
       "      <td>Retiree</td>\n",
       "      <td>0</td>\n",
       "      <td>24959.969</td>\n",
       "      <td>purchase of a car</td>\n",
       "      <td>Senior</td>\n",
       "    </tr>\n",
       "    <tr>\n",
       "      <th>21450</th>\n",
       "      <td>1</td>\n",
       "      <td>2113.346888</td>\n",
       "      <td>38.0</td>\n",
       "      <td>secondary education</td>\n",
       "      <td>1</td>\n",
       "      <td>Civil partnership</td>\n",
       "      <td>1</td>\n",
       "      <td>M</td>\n",
       "      <td>Employee</td>\n",
       "      <td>1</td>\n",
       "      <td>14347.610</td>\n",
       "      <td>property</td>\n",
       "      <td>Adult</td>\n",
       "    </tr>\n",
       "    <tr>\n",
       "      <th>21451</th>\n",
       "      <td>3</td>\n",
       "      <td>3112.481705</td>\n",
       "      <td>38.0</td>\n",
       "      <td>secondary education</td>\n",
       "      <td>1</td>\n",
       "      <td>Married</td>\n",
       "      <td>0</td>\n",
       "      <td>M</td>\n",
       "      <td>Employee</td>\n",
       "      <td>1</td>\n",
       "      <td>39054.888</td>\n",
       "      <td>buying my own car</td>\n",
       "      <td>Adult</td>\n",
       "    </tr>\n",
       "    <tr>\n",
       "      <th>21452</th>\n",
       "      <td>2</td>\n",
       "      <td>1984.507589</td>\n",
       "      <td>40.0</td>\n",
       "      <td>secondary education</td>\n",
       "      <td>1</td>\n",
       "      <td>Married</td>\n",
       "      <td>0</td>\n",
       "      <td>F</td>\n",
       "      <td>Employee</td>\n",
       "      <td>0</td>\n",
       "      <td>13127.587</td>\n",
       "      <td>to buy a car</td>\n",
       "      <td>Adult</td>\n",
       "    </tr>\n",
       "  </tbody>\n",
       "</table>\n",
       "<p>21453 rows × 13 columns</p>\n",
       "</div>"
      ],
      "text/plain": [
       "       children  days_employed  dob_years            education  education_id  \\\n",
       "0             1    8437.673028       42.0    bachelor's degree             0   \n",
       "1             1    4024.803754       36.0  secondary education             1   \n",
       "2             0    5623.422610       33.0  secondary education             1   \n",
       "3             3    4124.747207       32.0  secondary education             1   \n",
       "4             0            NaN       53.0  secondary education             1   \n",
       "...         ...            ...        ...                  ...           ...   \n",
       "21448         1    4529.316663       43.0  secondary education             1   \n",
       "21449         0            NaN       67.0  secondary education             1   \n",
       "21450         1    2113.346888       38.0  secondary education             1   \n",
       "21451         3    3112.481705       38.0  secondary education             1   \n",
       "21452         2    1984.507589       40.0  secondary education             1   \n",
       "\n",
       "           family_status  family_status_id gender income_type  debt  \\\n",
       "0                Married                 0      F    Employee     0   \n",
       "1                Married                 0      F    Employee     0   \n",
       "2                Married                 0      M    Employee     0   \n",
       "3                Married                 0      M    Employee     0   \n",
       "4      Civil partnership                 1      F     Retiree     0   \n",
       "...                  ...               ...    ...         ...   ...   \n",
       "21448  Civil partnership                 1      F    Business     0   \n",
       "21449            Married                 0      F     Retiree     0   \n",
       "21450  Civil partnership                 1      M    Employee     1   \n",
       "21451            Married                 0      M    Employee     1   \n",
       "21452            Married                 0      F    Employee     0   \n",
       "\n",
       "       total_income                  purpose age_category  \n",
       "0         40620.102    purchase of the house        Adult  \n",
       "1         17932.802             car purchase        Adult  \n",
       "2         23341.752    purchase of the house        Adult  \n",
       "3         42820.568  supplementary education        Adult  \n",
       "4         25378.572        to have a wedding  Middle-aged  \n",
       "...             ...                      ...          ...  \n",
       "21448     35966.698     housing transactions        Adult  \n",
       "21449     24959.969        purchase of a car       Senior  \n",
       "21450     14347.610                 property        Adult  \n",
       "21451     39054.888        buying my own car        Adult  \n",
       "21452     13127.587             to buy a car        Adult  \n",
       "\n",
       "[21453 rows x 13 columns]"
      ]
     },
     "execution_count": 184,
     "metadata": {},
     "output_type": "execute_result"
    }
   ],
   "source": [
    "credit_score"
   ]
  },
  {
   "cell_type": "code",
   "execution_count": 186,
   "metadata": {},
   "outputs": [
    {
     "name": "stdout",
     "output_type": "stream",
     "text": [
      "There are discrepancies in the number of values between the 'total_income' column and other columns.\n"
     ]
    }
   ],
   "source": [
    "# Checking the number of entries in the columns\n",
    "# Step 1: Check the total number of values in the 'total_income' column after filling missing values\n",
    "total_income_values = credit_score['total_income'].count()\n",
    "\n",
    "# Step 2: Check the total number of values in other columns (excluding 'total_income')\n",
    "other_column_values = credit_score.drop(columns=['total_income']).count().min()\n",
    "\n",
    "# Step 3: Compare the two counts\n",
    "if total_income_values == other_column_values:\n",
    "    print(\"The total number of values in the 'total_income' column matches the number of values in other columns.\")\n",
    "else:\n",
    "    print(\"There are discrepancies in the number of values between the 'total_income' column and other columns.\")\n",
    "\n"
   ]
  },
  {
   "cell_type": "markdown",
   "metadata": {},
   "source": [
    "###  Restoring values in `days_employed`"
   ]
  },
  {
   "cell_type": "code",
   "execution_count": 183,
   "metadata": {
    "pycharm": {
     "name": "#%%\n"
    }
   },
   "outputs": [
    {
     "name": "stdout",
     "output_type": "stream",
     "text": [
      "Distribution of 'days_employed' medians based on income_type and age_category:\n",
      "income_type                  age_category\n",
      "Business                     Adult           1588.581162\n",
      "                             Middle-aged     2044.399299\n",
      "                             Senior          2470.912766\n",
      "                             Young Adult      906.647054\n",
      "Civil servant                Adult           2772.638532\n",
      "                             Middle-aged     3668.973353\n",
      "                             Senior          3318.440092\n",
      "                             Young Adult     1362.645769\n",
      "Employee                     Adult           1612.484985\n",
      "                             Middle-aged     2124.336222\n",
      "                             Senior          2669.073965\n",
      "                             Young Adult     1008.784193\n",
      "Entrepreneur                 Middle-aged             NaN\n",
      "                             Young Adult      520.848083\n",
      "Paternity / maternity leave  Adult           3296.759962\n",
      "Retiree                      Adult                   NaN\n",
      "                             Middle-aged             NaN\n",
      "                             Senior                  NaN\n",
      "                             Young Adult             NaN\n",
      "Student                      Young Adult      578.751554\n",
      "Unemployed                   Adult                   NaN\n",
      "                             Middle-aged             NaN\n",
      "Name: days_employed, dtype: float64\n"
     ]
    }
   ],
   "source": [
    "# Distribution of `days_employed` medians based on your identified parameters\n",
    "\n",
    "# Step 1: Group the data by 'income_type' and 'age_category' and calculate the median 'days_employed'\n",
    "days_employed_medians = credit_score.groupby(['income_type', 'age_category'])['days_employed'].median()\n",
    "\n",
    "# Step 2: Display the distribution of 'days_employed' medians based on the identified parameters\n",
    "print(\"Distribution of 'days_employed' medians based on income_type and age_category:\")\n",
    "print(days_employed_medians)\n",
    "\n"
   ]
  },
  {
   "cell_type": "code",
   "execution_count": null,
   "metadata": {},
   "outputs": [],
   "source": [
    "# Distribution of `days_employed` means based on your identified parameters\n",
    "\n",
    "# Step 1: Group the data by 'income_type' and 'age_category' and calculate the mean 'days_employed'\n",
    "days_employed_means = credit_score.groupby(['income_type', 'age_category'])['days_employed'].mean()\n",
    "\n",
    "# Step 2: Display the distribution of 'days_employed' means based on income_type and age_category\n",
    "print(\"Distribution of 'days_employed' means based on income_type and age_category:\")\n",
    "print(days_employed_means)\n"
   ]
  },
  {
   "cell_type": "markdown",
   "metadata": {},
   "source": [
    "There were some anomalies and data issues detected during the analysis, which could impact the accuracy of mean calculations. \n",
    "The median provides a more robust estimation in such cases."
   ]
  },
  {
   "cell_type": "code",
   "execution_count": 187,
   "metadata": {},
   "outputs": [
    {
     "name": "stdout",
     "output_type": "stream",
     "text": [
      "Size of the dataset after manipulations: (21453, 13)\n",
      "Description of the new dataset:\n"
     ]
    },
    {
     "data": {
      "text/html": [
       "<div>\n",
       "<style scoped>\n",
       "    .dataframe tbody tr th:only-of-type {\n",
       "        vertical-align: middle;\n",
       "    }\n",
       "\n",
       "    .dataframe tbody tr th {\n",
       "        vertical-align: top;\n",
       "    }\n",
       "\n",
       "    .dataframe thead th {\n",
       "        text-align: right;\n",
       "    }\n",
       "</style>\n",
       "<table border=\"1\" class=\"dataframe\">\n",
       "  <thead>\n",
       "    <tr style=\"text-align: right;\">\n",
       "      <th></th>\n",
       "      <th>children</th>\n",
       "      <th>days_employed</th>\n",
       "      <th>dob_years</th>\n",
       "      <th>education_id</th>\n",
       "      <th>family_status_id</th>\n",
       "      <th>debt</th>\n",
       "      <th>total_income</th>\n",
       "    </tr>\n",
       "  </thead>\n",
       "  <tbody>\n",
       "    <tr>\n",
       "      <th>count</th>\n",
       "      <td>21453.000000</td>\n",
       "      <td>15904.000000</td>\n",
       "      <td>21453.000000</td>\n",
       "      <td>21453.000000</td>\n",
       "      <td>21453.000000</td>\n",
       "      <td>21453.000000</td>\n",
       "      <td>21452.000000</td>\n",
       "    </tr>\n",
       "    <tr>\n",
       "      <th>mean</th>\n",
       "      <td>0.480585</td>\n",
       "      <td>2352.007285</td>\n",
       "      <td>43.474572</td>\n",
       "      <td>0.817042</td>\n",
       "      <td>0.973896</td>\n",
       "      <td>0.081154</td>\n",
       "      <td>27063.602971</td>\n",
       "    </tr>\n",
       "    <tr>\n",
       "      <th>std</th>\n",
       "      <td>0.756079</td>\n",
       "      <td>2300.877325</td>\n",
       "      <td>12.213068</td>\n",
       "      <td>0.548628</td>\n",
       "      <td>1.421601</td>\n",
       "      <td>0.273078</td>\n",
       "      <td>1162.373138</td>\n",
       "    </tr>\n",
       "    <tr>\n",
       "      <th>min</th>\n",
       "      <td>0.000000</td>\n",
       "      <td>24.141633</td>\n",
       "      <td>19.000000</td>\n",
       "      <td>0.000000</td>\n",
       "      <td>0.000000</td>\n",
       "      <td>0.000000</td>\n",
       "      <td>14888.651857</td>\n",
       "    </tr>\n",
       "    <tr>\n",
       "      <th>25%</th>\n",
       "      <td>0.000000</td>\n",
       "      <td>756.170405</td>\n",
       "      <td>33.000000</td>\n",
       "      <td>1.000000</td>\n",
       "      <td>0.000000</td>\n",
       "      <td>0.000000</td>\n",
       "      <td>27089.606743</td>\n",
       "    </tr>\n",
       "    <tr>\n",
       "      <th>50%</th>\n",
       "      <td>0.000000</td>\n",
       "      <td>1629.851736</td>\n",
       "      <td>43.000000</td>\n",
       "      <td>1.000000</td>\n",
       "      <td>0.000000</td>\n",
       "      <td>0.000000</td>\n",
       "      <td>27089.606743</td>\n",
       "    </tr>\n",
       "    <tr>\n",
       "      <th>75%</th>\n",
       "      <td>1.000000</td>\n",
       "      <td>3157.131624</td>\n",
       "      <td>53.000000</td>\n",
       "      <td>1.000000</td>\n",
       "      <td>1.000000</td>\n",
       "      <td>0.000000</td>\n",
       "      <td>27089.606743</td>\n",
       "    </tr>\n",
       "    <tr>\n",
       "      <th>max</th>\n",
       "      <td>5.000000</td>\n",
       "      <td>17615.563266</td>\n",
       "      <td>75.000000</td>\n",
       "      <td>4.000000</td>\n",
       "      <td>4.000000</td>\n",
       "      <td>1.000000</td>\n",
       "      <td>33421.728652</td>\n",
       "    </tr>\n",
       "  </tbody>\n",
       "</table>\n",
       "</div>"
      ],
      "text/plain": [
       "           children  days_employed     dob_years  education_id  \\\n",
       "count  21453.000000   15904.000000  21453.000000  21453.000000   \n",
       "mean       0.480585    2352.007285     43.474572      0.817042   \n",
       "std        0.756079    2300.877325     12.213068      0.548628   \n",
       "min        0.000000      24.141633     19.000000      0.000000   \n",
       "25%        0.000000     756.170405     33.000000      1.000000   \n",
       "50%        0.000000    1629.851736     43.000000      1.000000   \n",
       "75%        1.000000    3157.131624     53.000000      1.000000   \n",
       "max        5.000000   17615.563266     75.000000      4.000000   \n",
       "\n",
       "       family_status_id          debt  total_income  \n",
       "count      21453.000000  21453.000000  21452.000000  \n",
       "mean           0.973896      0.081154  27063.602971  \n",
       "std            1.421601      0.273078   1162.373138  \n",
       "min            0.000000      0.000000  14888.651857  \n",
       "25%            0.000000      0.000000  27089.606743  \n",
       "50%            0.000000      0.000000  27089.606743  \n",
       "75%            1.000000      0.000000  27089.606743  \n",
       "max            4.000000      1.000000  33421.728652  "
      ]
     },
     "metadata": {},
     "output_type": "display_data"
    },
    {
     "name": "stdout",
     "output_type": "stream",
     "text": [
      "Number of missing values in 'total_income' after filling: 1\n",
      "Distribution of 'days_employed' medians based on identified parameters:\n"
     ]
    },
    {
     "data": {
      "text/plain": [
       "income_type                  age_category\n",
       "Business                     Adult           1588.581162\n",
       "                             Middle-aged     2044.399299\n",
       "                             Senior          2470.912766\n",
       "                             Young Adult      906.647054\n",
       "Civil servant                Adult           2772.638532\n",
       "                             Middle-aged     3668.973353\n",
       "                             Senior          3318.440092\n",
       "                             Young Adult     1362.645769\n",
       "Employee                     Adult           1612.484985\n",
       "                             Middle-aged     2124.336222\n",
       "                             Senior          2669.073965\n",
       "                             Young Adult     1008.784193\n",
       "Entrepreneur                 Middle-aged             NaN\n",
       "                             Young Adult      520.848083\n",
       "Paternity / maternity leave  Adult           3296.759962\n",
       "Retiree                      Adult                   NaN\n",
       "                             Middle-aged             NaN\n",
       "                             Senior                  NaN\n",
       "                             Young Adult             NaN\n",
       "Student                      Young Adult      578.751554\n",
       "Unemployed                   Adult                   NaN\n",
       "                             Middle-aged             NaN\n",
       "Name: days_employed, dtype: float64"
      ]
     },
     "metadata": {},
     "output_type": "display_data"
    },
    {
     "name": "stdout",
     "output_type": "stream",
     "text": [
      "Distribution of 'days_employed' mean based on identified parameters:\n"
     ]
    },
    {
     "data": {
      "text/plain": [
       "income_type                  age_category\n",
       "Business                     Adult           1986.234560\n",
       "                             Middle-aged     2779.193401\n",
       "                             Senior          3595.742298\n",
       "                             Young Adult     1128.501894\n",
       "Civil servant                Adult           3160.271436\n",
       "                             Middle-aged     4544.050094\n",
       "                             Senior          4343.083365\n",
       "                             Young Adult     1595.684495\n",
       "Employee                     Adult           2189.340880\n",
       "                             Middle-aged     3056.342276\n",
       "                             Senior          3850.616988\n",
       "                             Young Adult     1202.858627\n",
       "Entrepreneur                 Middle-aged             NaN\n",
       "                             Young Adult      520.848083\n",
       "Paternity / maternity leave  Adult           3296.759962\n",
       "Retiree                      Adult                   NaN\n",
       "                             Middle-aged             NaN\n",
       "                             Senior                  NaN\n",
       "                             Young Adult             NaN\n",
       "Student                      Young Adult      578.751554\n",
       "Unemployed                   Adult                   NaN\n",
       "                             Middle-aged             NaN\n",
       "Name: days_employed, dtype: float64"
      ]
     },
     "metadata": {},
     "output_type": "display_data"
    }
   ],
   "source": [
    "# Let's write a function that calculates means or medians (depending on your decision) based on your identified parameter\n",
    "\n",
    "# Step 19: Calculate mean income by income type and age category\n",
    "mean_income_by_group = credit_score.groupby(['income_type', 'age_category'])['total_income'].mean()\n",
    "\n",
    "# Step 20: Fill missing total_income values based on income type and age category\n",
    "def fill_missing_total_income(row):\n",
    "    income_type = row['income_type']\n",
    "    total_income = row['total_income']\n",
    "    \n",
    "    if pd.isnull(total_income):\n",
    "        if income_type in mean_income_by_group:\n",
    "            age_category = row['age_category']\n",
    "            if age_category in mean_income_by_group[income_type]:\n",
    "                return mean_income_by_group[income_type][age_category]\n",
    "    \n",
    "    # If the specific combination is missing, fill with overall median\n",
    "    return mean_income_by_group.mean()\n",
    "\n",
    "credit_score['total_income'] = credit_score.apply(fill_missing_total_income, axis=1)\n",
    "\n",
    "# Step 21: Check the size of the dataset after manipulations\n",
    "print(\"Size of the dataset after manipulations:\", credit_score.shape)\n",
    "\n",
    "# Step 22: Describe the new dataset\n",
    "description = credit_score.describe()\n",
    "print(\"Description of the new dataset:\")\n",
    "display(description)\n",
    "\n",
    "# Step 23: Check if missing values in 'total_income' have been filled correctly\n",
    "missing_values_after = credit_score['total_income'].isnull().sum()\n",
    "print(\"Number of missing values in 'total_income' after filling:\", missing_values_after)\n",
    "\n",
    "# Step 24: Check the distribution of 'days_employed' medians based on identified parameters\n",
    "median_days_employed_by_group = credit_score.groupby(['income_type', 'age_category'])['days_employed'].median()\n",
    "print(\"Distribution of 'days_employed' medians based on identified parameters:\")\n",
    "display(median_days_employed_by_group)\n",
    "\n",
    "# Step 25: Check the distribution of 'days_employed' mean based on identified parameters\n",
    "mean_days_employed_by_group = credit_score.groupby(['income_type', 'age_category'])['days_employed'].mean()\n",
    "print(\"Distribution of 'days_employed' mean based on identified parameters:\")\n",
    "display(mean_days_employed_by_group)\n",
    "\n",
    "\n"
   ]
  },
  {
   "cell_type": "code",
   "execution_count": 189,
   "metadata": {},
   "outputs": [],
   "source": [
    "def fill_missing_income(row):\n",
    "    income_type = row['income_type']\n",
    "    total_income = row['total_income']\n",
    "    \n",
    "    if pd.isnull(total_income):\n",
    "        if income_type in mean_income_by_group.index.get_level_values('income_type') and \\\n",
    "           row['age_category'] in mean_income_by_group.index.get_level_values('age_category'):\n",
    "            return mean_income_by_group[income_type][row['age_category']]\n",
    "    return total_income\n"
   ]
  },
  {
   "cell_type": "code",
   "execution_count": 190,
   "metadata": {},
   "outputs": [
    {
     "name": "stdout",
     "output_type": "stream",
     "text": [
      "Number of missing values in 'total_income' before filling: 1\n",
      "Number of missing values in 'total_income' after filling: 1\n"
     ]
    }
   ],
   "source": [
    "# Check that the function works\n",
    "#Check the number of missing values before applying the function\n",
    "missing_values_before = credit_score['total_income'].isnull().sum()\n",
    "print(\"Number of missing values in 'total_income' before filling:\", missing_values_before)\n",
    "\n",
    "# Apply the function to fill in missing total_income values based on income_type and age_category\n",
    "credit_score['total_income'] = credit_score.apply(fill_missing_income, axis=1)\n",
    "\n",
    "#  Check the number of missing values after applying the function\n",
    "missing_values_after = credit_score['total_income'].isnull().sum()\n",
    "print(\"Number of missing values in 'total_income' after filling:\", missing_values_after)\n"
   ]
  },
  {
   "cell_type": "code",
   "execution_count": 116,
   "metadata": {},
   "outputs": [
    {
     "name": "stdout",
     "output_type": "stream",
     "text": [
      "Size of the dataset after manipulations: (21453, 12)\n",
      "Description of the new dataset:\n",
      "           children  days_employed     dob_years  education_id  \\\n",
      "count  21453.000000   15904.000000  21453.000000  21453.000000   \n",
      "mean       0.480585    2352.007285     43.474572      0.817042   \n",
      "std        0.756079    2300.877325     12.213068      0.548628   \n",
      "min        0.000000      24.141633     19.000000      0.000000   \n",
      "25%        0.000000     756.170405     33.000000      1.000000   \n",
      "50%        0.000000    1629.851736     43.000000      1.000000   \n",
      "75%        1.000000    3157.131624     53.000000      1.000000   \n",
      "max        5.000000   17615.563266     75.000000      4.000000   \n",
      "\n",
      "       family_status_id          debt   total_income  \n",
      "count      21453.000000  21453.000000   19350.000000  \n",
      "mean           0.973896      0.081154   26787.266688  \n",
      "std            1.421601      0.273078   16475.822926  \n",
      "min            0.000000      0.000000    3306.762000  \n",
      "25%            0.000000      0.000000   16486.515250  \n",
      "50%            0.000000      0.000000   23201.873500  \n",
      "75%            1.000000      0.000000   32547.910750  \n",
      "max            4.000000      1.000000  362496.645000  \n"
     ]
    }
   ],
   "source": [
    "# Apply function to the income_type\n",
    "\n",
    "print(\"Size of the dataset after manipulations:\", credit_score.shape)\n",
    "\n",
    "description = credit_score.describe()\n",
    "print(\"Description of the new dataset:\")\n",
    "print(description)"
   ]
  },
  {
   "cell_type": "code",
   "execution_count": 191,
   "metadata": {},
   "outputs": [
    {
     "name": "stdout",
     "output_type": "stream",
     "text": [
      "Number of missing values in 'total_income' before filling: 1\n",
      "Number of missing values in 'total_income' after filling: 1\n"
     ]
    }
   ],
   "source": [
    "# Check if function worked\n",
    "\n",
    "missing_values_before = credit_score['total_income'].isnull().sum()\n",
    "print(\"Number of missing values in 'total_income' before filling:\", missing_values_before)\n",
    "\n",
    "credit_score['total_income'] = credit_score.apply(fill_missing_income, axis=1)\n",
    "\n",
    "\n",
    "missing_values_after = credit_score['total_income'].isnull().sum()\n",
    "print(\"Number of missing values in 'total_income' after filling:\", missing_values_after)\n",
    "\n"
   ]
  },
  {
   "cell_type": "code",
   "execution_count": 118,
   "metadata": {},
   "outputs": [
    {
     "name": "stdout",
     "output_type": "stream",
     "text": [
      "Row with missing value in 'total_income' column:\n",
      "       children  days_employed  dob_years            education  education_id  \\\n",
      "12            0            NaN       65.0  secondary education             1   \n",
      "26            0            NaN       41.0  secondary education             1   \n",
      "29            0            NaN       63.0  secondary education             1   \n",
      "41            0            NaN       50.0  secondary education             1   \n",
      "55            0            NaN       54.0  secondary education             1   \n",
      "...         ...            ...        ...                  ...           ...   \n",
      "21417         2            NaN       47.0  secondary education             1   \n",
      "21423         1            NaN       50.0  secondary education             1   \n",
      "21425         0            NaN       48.0    bachelor's degree             0   \n",
      "21430         1            NaN       42.0  secondary education             1   \n",
      "21438         2            NaN       28.0  secondary education             1   \n",
      "\n",
      "           family_status  family_status_id gender    income_type  debt  \\\n",
      "12     Civil partnership                 1      M        Retiree     0   \n",
      "26               Married                 0      M  Civil servant     0   \n",
      "29             Unmarried                 4      F        Retiree     0   \n",
      "41               Married                 0      F  Civil servant     0   \n",
      "55     Civil partnership                 1      F        Retiree     1   \n",
      "...                  ...               ...    ...            ...   ...   \n",
      "21417            Married                 0      M       Business     0   \n",
      "21423  Civil partnership                 1      F       Employee     0   \n",
      "21425            Married                 0      F       Business     0   \n",
      "21430            Married                 0      F       Employee     0   \n",
      "21438            Married                 0      F       Employee     0   \n",
      "\n",
      "       total_income                   purpose  \n",
      "12              NaN         to have a wedding  \n",
      "26              NaN                 education  \n",
      "29              NaN    building a real estate  \n",
      "41              NaN  second-hand car purchase  \n",
      "55              NaN         to have a wedding  \n",
      "...             ...                       ...  \n",
      "21417           NaN         purchase of a car  \n",
      "21423           NaN          wedding ceremony  \n",
      "21425           NaN       building a property  \n",
      "21430           NaN    building a real estate  \n",
      "21438           NaN              car purchase  \n",
      "\n",
      "[2103 rows x 12 columns]\n"
     ]
    }
   ],
   "source": [
    "# Find the row with the missing value in the 'total_income' column\n",
    "missing_income_row = credit_score[credit_score['total_income'].isnull()]\n",
    "print(\"Row with missing value in 'total_income' column:\")\n",
    "print(missing_income_row)\n"
   ]
  },
  {
   "cell_type": "code",
   "execution_count": 199,
   "metadata": {},
   "outputs": [
    {
     "name": "stdout",
     "output_type": "stream",
     "text": [
      "Number of missing values in 'total_income' after filling: 0\n"
     ]
    }
   ],
   "source": [
    "# Replacing missing values\n",
    "# Step 1: Calculate mean income by income type and age category\n",
    "mean_income_by_group = credit_score.groupby(['income_type', 'age_category'])['total_income'].mean()\n",
    "\n",
    "# Step 2: Find the index of the maximum mean income for the corresponding income_type and age_category\n",
    "max_mean_income_index = mean_income_by_group.idxmax()\n",
    "\n",
    "# Step 3: Extract the income_type and age_category values from the index\n",
    "income_type = max_mean_income_index[0]\n",
    "age_category = max_mean_income_index[1]\n",
    "\n",
    "# Step 4: Calculate the mean total_income for the corresponding income_type and age_category group\n",
    "mean_total_income = mean_income_by_group[income_type][age_category]\n",
    "\n",
    "# Step 5: Replace the missing value in the 'total_income' column with the calculated mean value\n",
    "credit_score.loc[credit_score['total_income'].isnull(), 'total_income'] = mean_total_income\n",
    "\n",
    "# Check if the missing value has been replaced\n",
    "missing_values_after_fill = credit_score['total_income'].isnull().sum()\n",
    "print(\"Number of missing values in 'total_income' after filling:\", missing_values_after_fill)\n",
    "\n",
    "\n",
    "\n"
   ]
  },
  {
   "cell_type": "code",
   "execution_count": 200,
   "metadata": {},
   "outputs": [],
   "source": [
    "# Create the 'age_category' column using the calculate_age_category function on the original 'credit_score' DataFrame\n",
    "credit_score['age_category'] = credit_score['dob_years'].apply(calculate_age_category)\n",
    "\n",
    "# Removes all missing data in the DataFrame\n",
    "df_notna = credit_score.dropna()\n",
    "\n",
    "# Create a groupby aggregation of categorical columns to get the median values of 'total_income' and 'days_employed'\n",
    "group_edu_income = df_notna.groupby(\"education\").agg({\"total_income\": \"median\"})\n",
    "group_age_day_employed = df_notna.groupby(\"age_category\").agg({\"days_employed\": \"median\"})\n",
    "\n",
    "# Create a function to fill in missing values\n",
    "def fill_missing_values(row, grouped_data, column, category):\n",
    "    # If the data is not null, return the stored value\n",
    "    if pd.notnull(row[column]):\n",
    "        return row[column]\n",
    "    # If the data is null/na\n",
    "    else:\n",
    "        # Return the mapped median category value stored in grouped data\n",
    "        return grouped_data.loc[row[category]].values[0]\n",
    "\n",
    "# Apply the function to fill in missing 'total_income' values\n",
    "credit_score[\"total_income\"] = credit_score.apply(\n",
    "    fill_missing_values, grouped_data=group_edu_income,\n",
    "    column=\"total_income\", category=\"education\", axis=1\n",
    ")\n",
    "\n",
    "# Apply the function to fill in missing 'days_employed' values\n",
    "credit_score[\"days_employed\"] = credit_score.apply(\n",
    "    fill_missing_values, grouped_data=group_age_day_employed,\n",
    "    column=\"days_employed\", category=\"age_category\", axis=1\n",
    ")\n",
    "\n"
   ]
  },
  {
   "cell_type": "code",
   "execution_count": 201,
   "metadata": {},
   "outputs": [
    {
     "name": "stdout",
     "output_type": "stream",
     "text": [
      "Missing values per column after filling:\n",
      "children            0\n",
      "days_employed       0\n",
      "dob_years           0\n",
      "education           0\n",
      "education_id        0\n",
      "family_status       0\n",
      "family_status_id    0\n",
      "gender              0\n",
      "income_type         0\n",
      "debt                0\n",
      "total_income        0\n",
      "purpose             0\n",
      "age_category        0\n",
      "dtype: int64\n"
     ]
    }
   ],
   "source": [
    "# Check the entries in all columns - make sure we fixed all missing values\n",
    "\n",
    "# Check the number of missing values in each column after filling\n",
    "missing_values_after_fill = credit_score.isnull().sum()\n",
    "print(\"Missing values per column after filling:\")\n",
    "print(missing_values_after_fill)\n"
   ]
  },
  {
   "cell_type": "code",
   "execution_count": 202,
   "metadata": {},
   "outputs": [
    {
     "data": {
      "text/plain": [
       "Index(['children', 'days_employed', 'dob_years', 'education', 'education_id',\n",
       "       'family_status', 'family_status_id', 'gender', 'income_type', 'debt',\n",
       "       'total_income', 'purpose', 'age_category'],\n",
       "      dtype='object')"
      ]
     },
     "execution_count": 202,
     "metadata": {},
     "output_type": "execute_result"
    }
   ],
   "source": [
    "credit_score.columns"
   ]
  },
  {
   "cell_type": "markdown",
   "metadata": {},
   "source": [
    "## Categorization of data <a id='categorize'></a>\n"
   ]
  },
  {
   "cell_type": "code",
   "execution_count": 203,
   "metadata": {
    "scrolled": true
   },
   "outputs": [
    {
     "name": "stdout",
     "output_type": "stream",
     "text": [
      "Values in the 'family_status' column:\n",
      "0                  Married\n",
      "1                  Married\n",
      "2                  Married\n",
      "3                  Married\n",
      "4        Civil partnership\n",
      "               ...        \n",
      "21448    Civil partnership\n",
      "21449              Married\n",
      "21450    Civil partnership\n",
      "21451              Married\n",
      "21452              Married\n",
      "Name: family_status, Length: 21453, dtype: object\n",
      "\n",
      "Values in the 'education' column:\n",
      "0          bachelor's degree\n",
      "1        secondary education\n",
      "2        secondary education\n",
      "3        secondary education\n",
      "4        secondary education\n",
      "                ...         \n",
      "21448    secondary education\n",
      "21449    secondary education\n",
      "21450    secondary education\n",
      "21451    secondary education\n",
      "21452    secondary education\n",
      "Name: education, Length: 21453, dtype: object\n",
      "\n",
      "Values in the 'purpose' column:\n",
      "0          purchase of the house\n",
      "1                   car purchase\n",
      "2          purchase of the house\n",
      "3        supplementary education\n",
      "4              to have a wedding\n",
      "                  ...           \n",
      "21448       housing transactions\n",
      "21449          purchase of a car\n",
      "21450                   property\n",
      "21451          buying my own car\n",
      "21452               to buy a car\n",
      "Name: purpose, Length: 21453, dtype: object\n",
      "\n",
      "Values in the 'age_category' column:\n",
      "0              Adult\n",
      "1              Adult\n",
      "2              Adult\n",
      "3              Adult\n",
      "4        Middle-aged\n",
      "            ...     \n",
      "21448          Adult\n",
      "21449         Senior\n",
      "21450          Adult\n",
      "21451          Adult\n",
      "21452          Adult\n",
      "Name: age_category, Length: 21453, dtype: object\n",
      "\n",
      "Values in the 'children' column:\n",
      "0        1\n",
      "1        1\n",
      "2        0\n",
      "3        3\n",
      "4        0\n",
      "        ..\n",
      "21448    1\n",
      "21449    0\n",
      "21450    1\n",
      "21451    3\n",
      "21452    2\n",
      "Name: children, Length: 21453, dtype: int64\n",
      "\n",
      "Values in the 'gender' column:\n",
      "0        F\n",
      "1        F\n",
      "2        M\n",
      "3        M\n",
      "4        F\n",
      "        ..\n",
      "21448    F\n",
      "21449    F\n",
      "21450    M\n",
      "21451    M\n",
      "21452    F\n",
      "Name: gender, Length: 21453, dtype: object\n"
     ]
    }
   ],
   "source": [
    "# Print the values for your selected data for categorization\n",
    "\n",
    "print(\"Values in the 'family_status' column:\")\n",
    "print(credit_score['family_status'])\n",
    "\n",
    "print(\"\\nValues in the 'education' column:\")\n",
    "print(credit_score['education'])\n",
    "\n",
    "print(\"\\nValues in the 'purpose' column:\")\n",
    "print(credit_score['purpose'])\n",
    "\n",
    "print(\"\\nValues in the 'age_category' column:\")\n",
    "print(credit_score['age_category'])\n",
    "\n",
    "print(\"\\nValues in the 'children' column:\")\n",
    "print(credit_score['children'])\n",
    "\n",
    "print(\"\\nValues in the 'gender' column:\")\n",
    "print(credit_score['gender'])\n"
   ]
  },
  {
   "cell_type": "code",
   "execution_count": 204,
   "metadata": {},
   "outputs": [
    {
     "name": "stdout",
     "output_type": "stream",
     "text": [
      "\n",
      "Values in the 'family_status' column:\n",
      "['Married' 'Civil partnership' 'Widow / widower' 'Divorced' 'Unmarried']\n",
      "\n",
      "Values in the 'education' column:\n",
      "[\"bachelor's degree\" 'secondary education' 'some college'\n",
      " 'primary education' 'graduate degree']\n",
      "\n",
      "Values in the 'purpose' column:\n",
      "['purchase of the house' 'car purchase' 'supplementary education'\n",
      " 'to have a wedding' 'housing transactions' 'education' 'having a wedding'\n",
      " 'purchase of the house for my family' 'buy real estate'\n",
      " 'buy commercial real estate' 'buy residential real estate'\n",
      " 'construction of own property' 'property' 'building a property'\n",
      " 'buying a second-hand car' 'buying my own car'\n",
      " 'transactions with commercial real estate' 'building a real estate'\n",
      " 'housing' 'transactions with my real estate' 'cars' 'to become educated'\n",
      " 'second-hand car purchase' 'getting an education' 'car'\n",
      " 'wedding ceremony' 'to get a supplementary education'\n",
      " 'purchase of my own house' 'real estate transactions'\n",
      " 'getting higher education' 'to own a car' 'purchase of a car'\n",
      " 'profile education' 'university education'\n",
      " 'buying property for renting out' 'to buy a car' 'housing renovation'\n",
      " 'going to university']\n",
      "\n",
      "Values in the 'age_category' column:\n",
      "['Adult' 'Middle-aged' 'Young Adult' 'Senior']\n",
      "\n",
      "Values in the 'children' column:\n",
      "[1 0 3 2 4 5]\n",
      "\n",
      "Values in the 'gender' column:\n",
      "['F' 'M']\n"
     ]
    }
   ],
   "source": [
    "# Check the unique values\n",
    "print(\"\\nValues in the 'family_status' column:\")\n",
    "print(credit_score['family_status'].unique())\n",
    "\n",
    "print(\"\\nValues in the 'education' column:\")\n",
    "print(credit_score['education'].unique())\n",
    "\n",
    "print(\"\\nValues in the 'purpose' column:\")\n",
    "print(credit_score['purpose'].unique())\n",
    "\n",
    "print(\"\\nValues in the 'age_category' column:\")\n",
    "print(credit_score['age_category'].unique())\n",
    "\n",
    "print(\"\\nValues in the 'children' column:\")\n",
    "print(credit_score['children'].unique())\n",
    "\n",
    "print(\"\\nValues in the 'gender' column:\")\n",
    "print(credit_score['gender'].unique())"
   ]
  },
  {
   "cell_type": "code",
   "execution_count": 205,
   "metadata": {},
   "outputs": [],
   "source": [
    "# Let's write a function to categorize the data based on common topics\n",
    "def categorize_data(column, categories_mapping):\n",
    "    return column.map(categories_mapping)\n"
   ]
  },
  {
   "cell_type": "code",
   "execution_count": null,
   "metadata": {},
   "outputs": [],
   "source": [
    "#Create a column with the categories and count the values for them\n",
    "# Function for categorizing the data based on purpose\n",
    "def categorize_purpose(text):\n",
    "    if {\"property\", \"estate\", \"house\", \"housing\"}.intersection(text.lower().split(\" \")):\n",
    "        return \"Real estate\"\n",
    "    elif {\"car\"}.intersection(text.lower().split(\" \")):\n",
    "        return \"Car\"\n",
    "    elif {\"education\"}.intersection(text.lower().split(\" \")):\n",
    "        return \"Education\"\n",
    "    elif {\"wedding\"}.intersection(text.lower().split(\" \")):\n",
    "        return \"Wedding\"\n",
    "    else:\n",
    "        return \"Other\"\n",
    "\n",
    "# Apply the function to create the 'purpose_category' column\n",
    "credit_score['purpose_category'] = credit_score['purpose'].apply(categorize_purpose)\n",
    "\n",
    "# Function for categorizing the data based on family status\n",
    "def categorize_family_status(family_status):\n",
    "    if family_status.lower() in [\"married\", \"civil partnership\"]:\n",
    "        return \"Married\"\n",
    "    elif family_status.lower() == \"widow / widower\":\n",
    "        return \"Widow/Widower\"\n",
    "    elif family_status.lower() == \"divorced\":\n",
    "        return \"Divorced\"\n",
    "    elif family_status.lower() in [\"unmarried\", \"single / not married\"]:\n",
    "        return \"Single\"\n",
    "    else:\n",
    "        return \"Other\"\n",
    "\n",
    "# Apply the function to create the 'family_status_category' column\n",
    "credit_score['family_status_category'] = credit_score['family_status'].apply(categorize_family_status)\n",
    "\n",
    "# Print the unique values in the new columns\n",
    "print(\"Values in the 'purpose_category' column:\")\n",
    "print(credit_score['purpose_category'].unique())\n",
    "\n",
    "print(\"\\nValues in the 'family_status_category' column:\")\n",
    "print(credit_score['family_status_category'].unique())"
   ]
  },
  {
   "cell_type": "code",
   "execution_count": 206,
   "metadata": {},
   "outputs": [
    {
     "data": {
      "text/plain": [
       "Index(['children', 'days_employed', 'dob_years', 'education', 'education_id',\n",
       "       'family_status', 'family_status_id', 'gender', 'income_type', 'debt',\n",
       "       'total_income', 'purpose', 'age_category'],\n",
       "      dtype='object')"
      ]
     },
     "execution_count": 206,
     "metadata": {},
     "output_type": "execute_result"
    }
   ],
   "source": [
    "credit_score.columns"
   ]
  },
  {
   "cell_type": "code",
   "execution_count": 207,
   "metadata": {},
   "outputs": [
    {
     "data": {
      "text/plain": [
       "array(['purchase of the house', 'car purchase', 'supplementary education',\n",
       "       'to have a wedding', 'housing transactions', 'education',\n",
       "       'having a wedding', 'purchase of the house for my family',\n",
       "       'buy real estate', 'buy commercial real estate',\n",
       "       'buy residential real estate', 'construction of own property',\n",
       "       'property', 'building a property', 'buying a second-hand car',\n",
       "       'buying my own car', 'transactions with commercial real estate',\n",
       "       'building a real estate', 'housing',\n",
       "       'transactions with my real estate', 'cars', 'to become educated',\n",
       "       'second-hand car purchase', 'getting an education', 'car',\n",
       "       'wedding ceremony', 'to get a supplementary education',\n",
       "       'purchase of my own house', 'real estate transactions',\n",
       "       'getting higher education', 'to own a car', 'purchase of a car',\n",
       "       'profile education', 'university education',\n",
       "       'buying property for renting out', 'to buy a car',\n",
       "       'housing renovation', 'going to university'], dtype=object)"
      ]
     },
     "execution_count": 207,
     "metadata": {},
     "output_type": "execute_result"
    }
   ],
   "source": [
    "credit_score.purpose.unique()"
   ]
  },
  {
   "cell_type": "code",
   "execution_count": 208,
   "metadata": {},
   "outputs": [
    {
     "name": "stdout",
     "output_type": "stream",
     "text": [
      "Values in the 'age_category' column:\n",
      "['Middle-aged', 'Senior', 'Young', 'Elderly']\n",
      "Categories (4, object): ['Young' < 'Middle-aged' < 'Senior' < 'Elderly']\n"
     ]
    }
   ],
   "source": [
    "# Looking through all the numerical data in your selected column for categorization\n",
    "age_bins = [0, 30, 45, 60, 100]\n",
    "age_labels = ['Young', 'Middle-aged', 'Senior', 'Elderly']\n",
    "\n",
    "credit_score['age_category'] = pd.cut(credit_score['dob_years'], bins=age_bins, labels=age_labels)\n",
    "\n",
    "print(\"Values in the 'age_category' column:\")\n",
    "print(credit_score['age_category'].unique())"
   ]
  },
  {
   "cell_type": "code",
   "execution_count": 209,
   "metadata": {},
   "outputs": [
    {
     "name": "stdout",
     "output_type": "stream",
     "text": [
      "Summary statistics for the 'dob_years' column:\n",
      "count    21453.000000\n",
      "mean        43.474572\n",
      "std         12.213068\n",
      "min         19.000000\n",
      "25%         33.000000\n",
      "50%         43.000000\n",
      "75%         53.000000\n",
      "max         75.000000\n",
      "Name: dob_years, dtype: float64\n"
     ]
    }
   ],
   "source": [
    "# Getting summary statistics for the column\n",
    "\n",
    "summary_stats = credit_score['dob_years'].describe()\n",
    "\n",
    "print(\"Summary statistics for the 'dob_years' column:\")\n",
    "print(summary_stats)"
   ]
  },
  {
   "cell_type": "code",
   "execution_count": 210,
   "metadata": {},
   "outputs": [],
   "source": [
    "# Creating function for categorizing into different numerical groups based on ranges\n",
    "\n",
    "def categorize_numerical(value, ranges):\n",
    "    for i, r in enumerate(ranges):\n",
    "        if value <= r:\n",
    "            return f'Group {i + 1}'\n",
    "    return f'Group {len(ranges) + 1}'"
   ]
  },
  {
   "cell_type": "code",
   "execution_count": 211,
   "metadata": {},
   "outputs": [],
   "source": [
    "# Creating column with categories\n",
    "# Example ranges for age column\n",
    "age_ranges = [30, 45, 60]\n",
    "\n",
    "# Create a new column 'age_category' based on the 'dob_years' column\n",
    "credit_score['age_category'] = credit_score['dob_years'].apply(lambda age: categorize_numerical(age, age_ranges))"
   ]
  },
  {
   "cell_type": "code",
   "execution_count": 212,
   "metadata": {
    "scrolled": true
   },
   "outputs": [
    {
     "name": "stdout",
     "output_type": "stream",
     "text": [
      "Distribution of values in the 'age_category' column:\n",
      "Group 2    8587\n",
      "Group 3    7024\n",
      "Group 1    3716\n",
      "Group 4    2126\n",
      "Name: age_category, dtype: int64\n"
     ]
    }
   ],
   "source": [
    "# Count each categories values to see the distribution\n",
    "\n",
    "# Count the values in the 'age_category' column\n",
    "age_category_distribution = credit_score['age_category'].value_counts()\n",
    "\n",
    "# Print the distribution\n",
    "print(\"Distribution of values in the 'age_category' column:\")\n",
    "print(age_category_distribution)"
   ]
  },
  {
   "cell_type": "code",
   "execution_count": 213,
   "metadata": {},
   "outputs": [
    {
     "name": "stdout",
     "output_type": "stream",
     "text": [
      "Distribution of values in the 'age_category' column:\n",
      "Young Adult    8587\n",
      "Adult          7024\n",
      "Teenager       3716\n",
      "Middle-aged    2126\n",
      "Name: age_category, dtype: int64\n"
     ]
    }
   ],
   "source": [
    "# Define a dictionary to map the current age_category values to the desired strings\n",
    "age_category_mapping = {\n",
    "    'Group 1': 'Teenager',\n",
    "    'Group 2': 'Young Adult',\n",
    "    'Group 3': 'Adult',\n",
    "    'Group 4': 'Middle-aged',\n",
    "    'Group 5': 'Senior'\n",
    "}\n",
    "\n",
    "# Use the map method to replace the values in the 'age_category' column\n",
    "credit_score['age_category'] = credit_score['age_category'].map(age_category_mapping)\n",
    "\n",
    "# Count the values in the 'age_category' column again to see the updated distribution\n",
    "age_category_distribution = credit_score['age_category'].value_counts()\n",
    "\n",
    "# Print the updated distribution\n",
    "print(\"Distribution of values in the 'age_category' column:\")\n",
    "print(age_category_distribution)\n"
   ]
  },
  {
   "cell_type": "markdown",
   "metadata": {},
   "source": [
    "## Checking the Hypotheses <a id='hypo'></a>\n"
   ]
  },
  {
   "cell_type": "markdown",
   "metadata": {},
   "source": [
    "**Is there a correlation between having children and paying back on time?**"
   ]
  },
  {
   "cell_type": "code",
   "execution_count": 214,
   "metadata": {},
   "outputs": [
    {
     "name": "stdout",
     "output_type": "stream",
     "text": [
      "Default rate based on the number of children:\n",
      "children\n",
      "0    7.544358\n",
      "1    9.165808\n",
      "2    9.492481\n",
      "3    8.181818\n",
      "4    9.756098\n",
      "5    0.000000\n",
      "Name: debt, dtype: float64\n"
     ]
    }
   ],
   "source": [
    "# Check the children data and paying back on time\n",
    "\n",
    "\n",
    "# Calculating default-rate based on the number of children\n",
    "\n",
    "# Group the data by 'children' and calculate the mean of 'debt' for each group\n",
    "default_rate_by_children = credit_score.groupby('children')['debt'].mean() * 100\n",
    "\n",
    "# Print the default rate for each number of children\n",
    "print(\"Default rate based on the number of children:\")\n",
    "print(default_rate_by_children)"
   ]
  },
  {
   "cell_type": "markdown",
   "metadata": {},
   "source": [
    "**Conclusion**"
   ]
  },
  {
   "cell_type": "markdown",
   "metadata": {},
   "source": [
    "It appears that clients with more children tend to have slightly higher default rates compared to those with fewer or no children."
   ]
  },
  {
   "cell_type": "markdown",
   "metadata": {},
   "source": [
    "**Is there a correlation between family status and paying back on time?**"
   ]
  },
  {
   "cell_type": "code",
   "execution_count": 215,
   "metadata": {},
   "outputs": [
    {
     "name": "stdout",
     "output_type": "stream",
     "text": [
      "Default rate based on family status:\n",
      "family_status\n",
      "Civil partnership    9.349398\n",
      "Divorced             7.112971\n",
      "Married              7.545182\n",
      "Unmarried            9.750890\n",
      "Widow / widower      6.569343\n",
      "Name: debt, dtype: float64\n"
     ]
    }
   ],
   "source": [
    "# Check the family status data and paying back on time\n",
    "# Calculating default-rate based on family status\n",
    "\n",
    "# Group the data by 'family_status' and calculate the mean of 'debt' for each group\n",
    "default_rate_by_family_status = credit_score.groupby('family_status')['debt'].mean() * 100\n",
    "\n",
    "# Print the default rate for each family status in percentage format\n",
    "print(\"Default rate based on family status:\")\n",
    "print(default_rate_by_family_status)"
   ]
  },
  {
   "cell_type": "markdown",
   "metadata": {},
   "source": [
    "**Conclusion**"
   ]
  },
  {
   "cell_type": "markdown",
   "metadata": {},
   "source": [
    "It appears that clients who are unmarried or in a civil partnership have a higher default rate, in turn, higher credit risk"
   ]
  },
  {
   "cell_type": "markdown",
   "metadata": {},
   "source": [
    "**Is there a correlation between income level and paying back on time?**"
   ]
  },
  {
   "cell_type": "code",
   "execution_count": 216,
   "metadata": {},
   "outputs": [
    {
     "name": "stdout",
     "output_type": "stream",
     "text": [
      "Default rate based on income level:\n",
      "income_level\n",
      "<20k        0.000000\n",
      "20k-40k     8.115793\n",
      "40k-60k     0.000000\n",
      "60k-80k     0.000000\n",
      "80k-100k    0.000000\n",
      "100k+       0.000000\n",
      "Name: debt, dtype: float64\n"
     ]
    }
   ],
   "source": [
    "# Check the income level data and paying back on time\n",
    "# Calculating default-rate based on income level\n",
    "\n",
    "# Step 1: Categorize the total_income into income levels or groups\n",
    "income_bins = [0, 20000, 40000, 60000, 80000, 100000, float('inf')]\n",
    "income_labels = ['<20k', '20k-40k', '40k-60k', '60k-80k', '80k-100k', '100k+']\n",
    "credit_score['income_level'] = pd.cut(credit_score['total_income'], bins=income_bins, labels=income_labels)\n",
    "\n",
    "# Step 2: Group the data by the income level and calculate the mean of 'debt' for each group\n",
    "default_rate_by_income_level = credit_score.groupby('income_level')['debt'].mean() * 100\n",
    "\n",
    "# Step 3: Set missing default rate values to 0\n",
    "default_rate_by_income_level = default_rate_by_income_level.fillna(0)\n",
    "\n",
    "# Step 4: Print the default rate for each income level\n",
    "print(\"Default rate based on income level:\")\n",
    "print(default_rate_by_income_level)\n"
   ]
  },
  {
   "cell_type": "markdown",
   "metadata": {},
   "source": [
    "**Conclusion**"
   ]
  },
  {
   "cell_type": "markdown",
   "metadata": {},
   "source": [
    "Higher-income individuals tend to have lower default rates since they have more resources to manage their debts. Conversely, lower-income individuals may have higher default rates as they may struggle to make timely payments due to financial constraints."
   ]
  },
  {
   "cell_type": "markdown",
   "metadata": {},
   "source": [
    "**How does credit purpose affect the default rate?**"
   ]
  },
  {
   "cell_type": "code",
   "execution_count": 219,
   "metadata": {},
   "outputs": [],
   "source": [
    "def categorize_credit_purpose(purpose):\n",
    "    if 'wedding' in purpose:\n",
    "        return 'Wedding'\n",
    "    elif 'car' in purpose:\n",
    "        return 'Car'\n",
    "    elif 'education' in purpose or 'university' in purpose:\n",
    "        return 'Education'\n",
    "    elif 'real estate' in purpose or 'property' in purpose or 'house' in purpose:\n",
    "        return 'Real Estate'\n",
    "    else:\n",
    "        return 'Other'"
   ]
  },
  {
   "cell_type": "code",
   "execution_count": 220,
   "metadata": {},
   "outputs": [
    {
     "name": "stdout",
     "output_type": "stream",
     "text": [
      "Default rate based on credit purpose:\n",
      "purpose_category\n",
      "Car            9.359034\n",
      "Education      9.181692\n",
      "Other          7.263294\n",
      "Real Estate    7.332959\n",
      "Wedding        8.003442\n",
      "Name: debt, dtype: float64\n"
     ]
    }
   ],
   "source": [
    "# Check the percentages for default rate for each credit purpose and analyze them\n",
    "# Apply the function to create the 'purpose_category' column\n",
    "credit_score['purpose_category'] = credit_score['purpose'].apply(categorize_credit_purpose)\n",
    "\n",
    "# Check the percentages for default rate for each credit purpose and analyze them\n",
    "# Step 1: Group the data by the purpose_category and calculate the mean of 'debt' for each group\n",
    "default_rate_by_purpose = credit_score.groupby('purpose_category')['debt'].mean() * 100\n",
    "\n",
    "# Step 2: Print the default rate for each credit purpose\n",
    "print(\"Default rate based on credit purpose:\")\n",
    "print(default_rate_by_purpose)\n"
   ]
  },
  {
   "cell_type": "markdown",
   "metadata": {},
   "source": [
    "**Conclusion**"
   ]
  },
  {
   "cell_type": "markdown",
   "metadata": {},
   "source": [
    "According to the dafault rate, most of them are prefered to have a car and supplementary education, as to ease of mobility and upskill oneself for better prespect and future."
   ]
  },
  {
   "cell_type": "markdown",
   "metadata": {},
   "source": [
    "# General Conclusion <a id='end'></a>\n"
   ]
  },
  {
   "cell_type": "markdown",
   "metadata": {},
   "source": [
    "<b>Conclusions:<b>"
   ]
  },
  {
   "cell_type": "markdown",
   "metadata": {},
   "source": [
    "1. Missing Values: The dataset contained missing values in the 'days_employed' and 'total_income' columns. \n",
    ">To address this, we calculated the median income for each combination of income type and age category and filled in the missing 'total_income' values accordingly. \n",
    ">However, we observed one remaining missing value in the 'total_income' column, which might have occurred due to an insufficient number of entries in a specific income type and age category.\n",
    "\n",
    "1. Duplicates: The dataset had some duplicate rows, which we identified and removed to ensure data integrity and accurate analysis.\n",
    "\n",
    "1. Incorrect Data: We encountered problematic data in the 'children' and 'dob_years' columns. \n",
    ">Some rows had negative or excessively high numbers of children, and some had zero values for age. \n",
    "#We addressed these issues by replacing negative and excessively high values with appropriate ones and filling in the zero values for age with the median age.\n",
    "\n",
    "1. Categorization: We categorized data in the 'family_status' and 'purpose' columns to analyze default rates based on different factors. \n",
    ">The default rates varied among different family statuses and credit purposes, indicating potential correlations between these factors and the likelihood of repayment.\n",
    "\n",
    "1. Default Rates: We calculated default rates based on the number of children, family status, income level, and credit purpose. \n",
    ">The default rates showed variations among different groups, providing insights into the relationships between these factors and loan repayment behavior.\n",
    "\n",
    "1. Income Level Issue: We noticed that the default rate for income levels between 40k-60k and 60k-80k was 0%. \n",
    ">This could indicate possible data issues or errors in the income level categorization. \n",
    ">It is essential for data validation and double-check the income level categorization to ensure accuracy in the results.\n",
    "\n",
    "1. Limitations: The analysis conducted here provides valuable insights, but it has some limitations. \n",
    ">The dataset may not be entirely representative of the entire population, and the findings should be interpreted with caution. \n",
    ">Additionally, the default rates should be analyzed in conjunction with other factors, such as loan terms, credit history, and loan amounts, to obtain a more comprehensive understanding of default risk.\n",
    "\n",
    "1. Further Analysis: To gain deeper insights, further analysis and modeling could be performed, such as logistic regression, to identify the most influential factors affecting loan default.\n",
    "\n"
   ]
  },
  {
   "cell_type": "markdown",
   "metadata": {},
   "source": [
    "In conclusion, our data preprocessing and analysis revealed valuable information about the dataset, default rates, and factors influencing loan repayment. Addressing missing values, duplicates, and incorrect data allowed for more accurate analysis and interpretation of the findings. However, additional data verification and validation would be required to ensure the accuracy and reliability of the results."
   ]
  }
 ],
 "metadata": {
  "ExecuteTimeLog": [
   {
    "duration": 2741,
    "start_time": "2021-10-21T01:08:49.480Z"
   },
   {
    "duration": 52,
    "start_time": "2021-10-21T01:08:53.315Z"
   },
   {
    "duration": 49,
    "start_time": "2021-10-21T01:08:57.432Z"
   },
   {
    "duration": 70,
    "start_time": "2021-10-21T01:09:07.706Z"
   }
  ],
  "kernelspec": {
   "display_name": "Python 3 (ipykernel)",
   "language": "python",
   "name": "python3"
  },
  "language_info": {
   "codemirror_mode": {
    "name": "ipython",
    "version": 3
   },
   "file_extension": ".py",
   "mimetype": "text/x-python",
   "name": "python",
   "nbconvert_exporter": "python",
   "pygments_lexer": "ipython3",
   "version": "3.9.5"
  },
  "toc": {
   "base_numbering": 1,
   "nav_menu": {},
   "number_sections": true,
   "sideBar": true,
   "skip_h1_title": true,
   "title_cell": "Table of Contents",
   "title_sidebar": "Contents",
   "toc_cell": false,
   "toc_position": {
    "height": "calc(100% - 180px)",
    "left": "10px",
    "top": "150px",
    "width": "261.797px"
   },
   "toc_section_display": true,
   "toc_window_display": false
  }
 },
 "nbformat": 4,
 "nbformat_minor": 2
}
